{
  "nbformat": 4,
  "nbformat_minor": 0,
  "metadata": {
    "colab": {
      "provenance": []
    },
    "kernelspec": {
      "name": "python3",
      "display_name": "Python 3"
    },
    "language_info": {
      "name": "python"
    }
  },
  "cells": [
    {
      "cell_type": "markdown",
      "source": [
        "# ACTIVIDAD APRENDIZAJE AUTOMÁTICO\n",
        "Análisis de datos (grupo 2)\n",
        "\n",
        "Unidad 11, Aprendizaje automático\n",
        "\n",
        "Camilo Andrés Barajas Rozo\n",
        "\n",
        "Cédula: 1000330011"
      ],
      "metadata": {
        "id": "vtLibU392QZT"
      }
    },
    {
      "cell_type": "markdown",
      "source": [
        "**Objetivo:**  Afianzar el conocimiento obtenido en la clasificación."
      ],
      "metadata": {
        "id": "l75numfc2-_E"
      }
    },
    {
      "cell_type": "markdown",
      "source": [
        "**Descripción de la actividad**\n",
        "1.  \n",
        "     \n",
        ">*  Usando Socrata, Cargue un dataset que se encuentre en el portal de datos públicos\n",
        "de Colombia\n",
        "\n",
        "\n"
      ],
      "metadata": {
        "id": "yE6WKS993nwM"
      }
    },
    {
      "cell_type": "code",
      "source": [
        "# Se instalar las bibliotecas o paquetes.\n",
        "!pip install sodapy"
      ],
      "metadata": {
        "id": "oJNHdA-3ch5v"
      },
      "execution_count": null,
      "outputs": []
    },
    {
      "cell_type": "code",
      "execution_count": 2,
      "metadata": {
        "colab": {
          "base_uri": "https://localhost:8080/",
          "height": 317
        },
        "id": "nRdWKXJuxFIX",
        "outputId": "f6348fd1-0b24-4938-862d-883e3bf77da6"
      },
      "outputs": [
        {
          "output_type": "stream",
          "name": "stderr",
          "text": [
            "WARNING:root:Requests made without an app_token will be subject to strict throttling limits.\n"
          ]
        },
        {
          "output_type": "execute_result",
          "data": {
            "text/plain": [
              "  cod_mpio h_5 i1 i2 i3 i4 i5 i6 i7 i8  ... per011 per012 per013 per014  \\\n",
              "0    05001   1  1  0  1  1  0  0  1  1  ...      9      1      9      9   \n",
              "1    05001   1  1  0  1  1  0  0  1  1  ...      9      9      9      9   \n",
              "2    05001   0  1  0  0  0  0  0  0  1  ...      9      9      9      9   \n",
              "3    05001   0  1  0  0  0  0  0  0  1  ...      2      1      9      9   \n",
              "4    05001   0  1  0  0  0  0  0  0  1  ...      9      9      9      9   \n",
              "\n",
              "  per015 per016 per017 per018 per019 per020  \n",
              "0      1      2      2      2      5     99  \n",
              "1      1      2      2      9      4     99  \n",
              "2      1      2      2      2      2     10  \n",
              "3      1      2      2      2      5     99  \n",
              "4      1      2      2      2      2     10  \n",
              "\n",
              "[5 rows x 48 columns]"
            ],
            "text/html": [
              "\n",
              "  <div id=\"df-7279e43b-2b2c-49a2-ac37-f3f7f3c66b8a\">\n",
              "    <div class=\"colab-df-container\">\n",
              "      <div>\n",
              "<style scoped>\n",
              "    .dataframe tbody tr th:only-of-type {\n",
              "        vertical-align: middle;\n",
              "    }\n",
              "\n",
              "    .dataframe tbody tr th {\n",
              "        vertical-align: top;\n",
              "    }\n",
              "\n",
              "    .dataframe thead th {\n",
              "        text-align: right;\n",
              "    }\n",
              "</style>\n",
              "<table border=\"1\" class=\"dataframe\">\n",
              "  <thead>\n",
              "    <tr style=\"text-align: right;\">\n",
              "      <th></th>\n",
              "      <th>cod_mpio</th>\n",
              "      <th>h_5</th>\n",
              "      <th>i1</th>\n",
              "      <th>i2</th>\n",
              "      <th>i3</th>\n",
              "      <th>i4</th>\n",
              "      <th>i5</th>\n",
              "      <th>i6</th>\n",
              "      <th>i7</th>\n",
              "      <th>i8</th>\n",
              "      <th>...</th>\n",
              "      <th>per011</th>\n",
              "      <th>per012</th>\n",
              "      <th>per013</th>\n",
              "      <th>per014</th>\n",
              "      <th>per015</th>\n",
              "      <th>per016</th>\n",
              "      <th>per017</th>\n",
              "      <th>per018</th>\n",
              "      <th>per019</th>\n",
              "      <th>per020</th>\n",
              "    </tr>\n",
              "  </thead>\n",
              "  <tbody>\n",
              "    <tr>\n",
              "      <th>0</th>\n",
              "      <td>05001</td>\n",
              "      <td>1</td>\n",
              "      <td>1</td>\n",
              "      <td>0</td>\n",
              "      <td>1</td>\n",
              "      <td>1</td>\n",
              "      <td>0</td>\n",
              "      <td>0</td>\n",
              "      <td>1</td>\n",
              "      <td>1</td>\n",
              "      <td>...</td>\n",
              "      <td>9</td>\n",
              "      <td>1</td>\n",
              "      <td>9</td>\n",
              "      <td>9</td>\n",
              "      <td>1</td>\n",
              "      <td>2</td>\n",
              "      <td>2</td>\n",
              "      <td>2</td>\n",
              "      <td>5</td>\n",
              "      <td>99</td>\n",
              "    </tr>\n",
              "    <tr>\n",
              "      <th>1</th>\n",
              "      <td>05001</td>\n",
              "      <td>1</td>\n",
              "      <td>1</td>\n",
              "      <td>0</td>\n",
              "      <td>1</td>\n",
              "      <td>1</td>\n",
              "      <td>0</td>\n",
              "      <td>0</td>\n",
              "      <td>1</td>\n",
              "      <td>1</td>\n",
              "      <td>...</td>\n",
              "      <td>9</td>\n",
              "      <td>9</td>\n",
              "      <td>9</td>\n",
              "      <td>9</td>\n",
              "      <td>1</td>\n",
              "      <td>2</td>\n",
              "      <td>2</td>\n",
              "      <td>9</td>\n",
              "      <td>4</td>\n",
              "      <td>99</td>\n",
              "    </tr>\n",
              "    <tr>\n",
              "      <th>2</th>\n",
              "      <td>05001</td>\n",
              "      <td>0</td>\n",
              "      <td>1</td>\n",
              "      <td>0</td>\n",
              "      <td>0</td>\n",
              "      <td>0</td>\n",
              "      <td>0</td>\n",
              "      <td>0</td>\n",
              "      <td>0</td>\n",
              "      <td>1</td>\n",
              "      <td>...</td>\n",
              "      <td>9</td>\n",
              "      <td>9</td>\n",
              "      <td>9</td>\n",
              "      <td>9</td>\n",
              "      <td>1</td>\n",
              "      <td>2</td>\n",
              "      <td>2</td>\n",
              "      <td>2</td>\n",
              "      <td>2</td>\n",
              "      <td>10</td>\n",
              "    </tr>\n",
              "    <tr>\n",
              "      <th>3</th>\n",
              "      <td>05001</td>\n",
              "      <td>0</td>\n",
              "      <td>1</td>\n",
              "      <td>0</td>\n",
              "      <td>0</td>\n",
              "      <td>0</td>\n",
              "      <td>0</td>\n",
              "      <td>0</td>\n",
              "      <td>0</td>\n",
              "      <td>1</td>\n",
              "      <td>...</td>\n",
              "      <td>2</td>\n",
              "      <td>1</td>\n",
              "      <td>9</td>\n",
              "      <td>9</td>\n",
              "      <td>1</td>\n",
              "      <td>2</td>\n",
              "      <td>2</td>\n",
              "      <td>2</td>\n",
              "      <td>5</td>\n",
              "      <td>99</td>\n",
              "    </tr>\n",
              "    <tr>\n",
              "      <th>4</th>\n",
              "      <td>05001</td>\n",
              "      <td>0</td>\n",
              "      <td>1</td>\n",
              "      <td>0</td>\n",
              "      <td>0</td>\n",
              "      <td>0</td>\n",
              "      <td>0</td>\n",
              "      <td>0</td>\n",
              "      <td>0</td>\n",
              "      <td>1</td>\n",
              "      <td>...</td>\n",
              "      <td>9</td>\n",
              "      <td>9</td>\n",
              "      <td>9</td>\n",
              "      <td>9</td>\n",
              "      <td>1</td>\n",
              "      <td>2</td>\n",
              "      <td>2</td>\n",
              "      <td>2</td>\n",
              "      <td>2</td>\n",
              "      <td>10</td>\n",
              "    </tr>\n",
              "  </tbody>\n",
              "</table>\n",
              "<p>5 rows × 48 columns</p>\n",
              "</div>\n",
              "      <button class=\"colab-df-convert\" onclick=\"convertToInteractive('df-7279e43b-2b2c-49a2-ac37-f3f7f3c66b8a')\"\n",
              "              title=\"Convert this dataframe to an interactive table.\"\n",
              "              style=\"display:none;\">\n",
              "        \n",
              "  <svg xmlns=\"http://www.w3.org/2000/svg\" height=\"24px\"viewBox=\"0 0 24 24\"\n",
              "       width=\"24px\">\n",
              "    <path d=\"M0 0h24v24H0V0z\" fill=\"none\"/>\n",
              "    <path d=\"M18.56 5.44l.94 2.06.94-2.06 2.06-.94-2.06-.94-.94-2.06-.94 2.06-2.06.94zm-11 1L8.5 8.5l.94-2.06 2.06-.94-2.06-.94L8.5 2.5l-.94 2.06-2.06.94zm10 10l.94 2.06.94-2.06 2.06-.94-2.06-.94-.94-2.06-.94 2.06-2.06.94z\"/><path d=\"M17.41 7.96l-1.37-1.37c-.4-.4-.92-.59-1.43-.59-.52 0-1.04.2-1.43.59L10.3 9.45l-7.72 7.72c-.78.78-.78 2.05 0 2.83L4 21.41c.39.39.9.59 1.41.59.51 0 1.02-.2 1.41-.59l7.78-7.78 2.81-2.81c.8-.78.8-2.07 0-2.86zM5.41 20L4 18.59l7.72-7.72 1.47 1.35L5.41 20z\"/>\n",
              "  </svg>\n",
              "      </button>\n",
              "      \n",
              "  <style>\n",
              "    .colab-df-container {\n",
              "      display:flex;\n",
              "      flex-wrap:wrap;\n",
              "      gap: 12px;\n",
              "    }\n",
              "\n",
              "    .colab-df-convert {\n",
              "      background-color: #E8F0FE;\n",
              "      border: none;\n",
              "      border-radius: 50%;\n",
              "      cursor: pointer;\n",
              "      display: none;\n",
              "      fill: #1967D2;\n",
              "      height: 32px;\n",
              "      padding: 0 0 0 0;\n",
              "      width: 32px;\n",
              "    }\n",
              "\n",
              "    .colab-df-convert:hover {\n",
              "      background-color: #E2EBFA;\n",
              "      box-shadow: 0px 1px 2px rgba(60, 64, 67, 0.3), 0px 1px 3px 1px rgba(60, 64, 67, 0.15);\n",
              "      fill: #174EA6;\n",
              "    }\n",
              "\n",
              "    [theme=dark] .colab-df-convert {\n",
              "      background-color: #3B4455;\n",
              "      fill: #D2E3FC;\n",
              "    }\n",
              "\n",
              "    [theme=dark] .colab-df-convert:hover {\n",
              "      background-color: #434B5C;\n",
              "      box-shadow: 0px 1px 3px 1px rgba(0, 0, 0, 0.15);\n",
              "      filter: drop-shadow(0px 1px 2px rgba(0, 0, 0, 0.3));\n",
              "      fill: #FFFFFF;\n",
              "    }\n",
              "  </style>\n",
              "\n",
              "      <script>\n",
              "        const buttonEl =\n",
              "          document.querySelector('#df-7279e43b-2b2c-49a2-ac37-f3f7f3c66b8a button.colab-df-convert');\n",
              "        buttonEl.style.display =\n",
              "          google.colab.kernel.accessAllowed ? 'block' : 'none';\n",
              "\n",
              "        async function convertToInteractive(key) {\n",
              "          const element = document.querySelector('#df-7279e43b-2b2c-49a2-ac37-f3f7f3c66b8a');\n",
              "          const dataTable =\n",
              "            await google.colab.kernel.invokeFunction('convertToInteractive',\n",
              "                                                     [key], {});\n",
              "          if (!dataTable) return;\n",
              "\n",
              "          const docLinkHtml = 'Like what you see? Visit the ' +\n",
              "            '<a target=\"_blank\" href=https://colab.research.google.com/notebooks/data_table.ipynb>data table notebook</a>'\n",
              "            + ' to learn more about interactive tables.';\n",
              "          element.innerHTML = '';\n",
              "          dataTable['output_type'] = 'display_data';\n",
              "          await google.colab.output.renderOutput(dataTable, element);\n",
              "          const docLink = document.createElement('div');\n",
              "          docLink.innerHTML = docLinkHtml;\n",
              "          element.appendChild(docLink);\n",
              "        }\n",
              "      </script>\n",
              "    </div>\n",
              "  </div>\n",
              "  "
            ]
          },
          "metadata": {},
          "execution_count": 2
        }
      ],
      "source": [
        "# Se cargan o importan las librerías requeridas.\n",
        "import matplotlib.pyplot as plt\n",
        "import pandas as pd\n",
        "import numpy as np\n",
        "from sodapy import Socrata\n",
        "\n",
        "# Se carga él dataset DNP - Sisbén Personas: https://www.datos.gov.co/Estad-sticas-Nacionales/DNP-Sisb-n-Personas/hq2v-5umk\n",
        "client = Socrata('www.datos.gov.co', None)\n",
        "results = client.get('hq2v-5umk')\n",
        "datos = pd.DataFrame.from_records(results)\n",
        "datos.head() # Se imprimen las primeras cinco filas del dataset."
      ]
    },
    {
      "cell_type": "markdown",
      "source": [
        ">*   Realice las tareas de limpieza necesarias"
      ],
      "metadata": {
        "id": "nwzvW0Ex6XVM"
      }
    },
    {
      "cell_type": "code",
      "source": [
        "datos.info() # Información general del dataset."
      ],
      "metadata": {
        "colab": {
          "base_uri": "https://localhost:8080/"
        },
        "id": "56-CjBE0eLsD",
        "outputId": "9a055be1-387f-43b4-b9cc-522b0f4fdd04"
      },
      "execution_count": 3,
      "outputs": [
        {
          "output_type": "stream",
          "name": "stdout",
          "text": [
            "<class 'pandas.core.frame.DataFrame'>\n",
            "RangeIndex: 1000 entries, 0 to 999\n",
            "Data columns (total 48 columns):\n",
            " #   Column         Non-Null Count  Dtype \n",
            "---  ------         --------------  ----- \n",
            " 0   cod_mpio       1000 non-null   object\n",
            " 1   h_5            1000 non-null   object\n",
            " 2   i1             1000 non-null   object\n",
            " 3   i2             1000 non-null   object\n",
            " 4   i3             1000 non-null   object\n",
            " 5   i4             1000 non-null   object\n",
            " 6   i5             1000 non-null   object\n",
            " 7   i6             1000 non-null   object\n",
            " 8   i7             1000 non-null   object\n",
            " 9   i8             1000 non-null   object\n",
            " 10  i9             1000 non-null   object\n",
            " 11  i10            1000 non-null   object\n",
            " 12  i11            1000 non-null   object\n",
            " 13  i12            1000 non-null   object\n",
            " 14  i13            1000 non-null   object\n",
            " 15  i14            1000 non-null   object\n",
            " 16  i15            1000 non-null   object\n",
            " 17  grupo          1000 non-null   object\n",
            " 18  nivel          1000 non-null   object\n",
            " 19  clasificacion  1000 non-null   object\n",
            " 20  zona           1000 non-null   object\n",
            " 21  llave          1000 non-null   object\n",
            " 22  corte          1000 non-null   object\n",
            " 23  hogar          1000 non-null   object\n",
            " 24  orden          1000 non-null   object\n",
            " 25  fex            1000 non-null   object\n",
            " 26  per001         1000 non-null   object\n",
            " 27  per002         1000 non-null   object\n",
            " 28  per003         1000 non-null   object\n",
            " 29  per004         1000 non-null   object\n",
            " 30  per005         1000 non-null   object\n",
            " 31  per005b        1000 non-null   object\n",
            " 32  per006         1000 non-null   object\n",
            " 33  per006b        1000 non-null   object\n",
            " 34  per007         1000 non-null   object\n",
            " 35  per008         1000 non-null   object\n",
            " 36  per009         1000 non-null   object\n",
            " 37  per010         1000 non-null   object\n",
            " 38  per011         1000 non-null   object\n",
            " 39  per012         1000 non-null   object\n",
            " 40  per013         1000 non-null   object\n",
            " 41  per014         1000 non-null   object\n",
            " 42  per015         1000 non-null   object\n",
            " 43  per016         1000 non-null   object\n",
            " 44  per017         1000 non-null   object\n",
            " 45  per018         1000 non-null   object\n",
            " 46  per019         1000 non-null   object\n",
            " 47  per020         1000 non-null   object\n",
            "dtypes: object(48)\n",
            "memory usage: 375.1+ KB\n"
          ]
        }
      ]
    },
    {
      "cell_type": "code",
      "source": [
        "datos.describe() # Información general del dataset."
      ],
      "metadata": {
        "colab": {
          "base_uri": "https://localhost:8080/",
          "height": 268
        },
        "id": "DvJ1mQMGXoQB",
        "outputId": "5f6491c4-4903-487a-f827-0aa5b01b2aeb"
      },
      "execution_count": 4,
      "outputs": [
        {
          "output_type": "execute_result",
          "data": {
            "text/plain": [
              "       cod_mpio   h_5    i1    i2    i3    i4    i5    i6    i7    i8  ...  \\\n",
              "count      1000  1000  1000  1000  1000  1000  1000  1000  1000  1000  ...   \n",
              "unique        1     2     2     2     2     2     2     2     2     2  ...   \n",
              "top       05001     0     1     0     0     0     0     0     0     1  ...   \n",
              "freq       1000   795   545   854   952   761   763   995   843   569  ...   \n",
              "\n",
              "       per011 per012 per013 per014 per015 per016 per017 per018 per019 per020  \n",
              "count    1000   1000   1000   1000   1000   1000   1000   1000   1000   1000  \n",
              "unique      3      3      6      2      3      3      4      4      6     10  \n",
              "top         9      9      9      9      1      2      2      2      2     99  \n",
              "freq      632    515    933    933    868    734    739    628    338    662  \n",
              "\n",
              "[4 rows x 48 columns]"
            ],
            "text/html": [
              "\n",
              "  <div id=\"df-c70e6890-edbc-43d6-8679-cb38bc56c18e\">\n",
              "    <div class=\"colab-df-container\">\n",
              "      <div>\n",
              "<style scoped>\n",
              "    .dataframe tbody tr th:only-of-type {\n",
              "        vertical-align: middle;\n",
              "    }\n",
              "\n",
              "    .dataframe tbody tr th {\n",
              "        vertical-align: top;\n",
              "    }\n",
              "\n",
              "    .dataframe thead th {\n",
              "        text-align: right;\n",
              "    }\n",
              "</style>\n",
              "<table border=\"1\" class=\"dataframe\">\n",
              "  <thead>\n",
              "    <tr style=\"text-align: right;\">\n",
              "      <th></th>\n",
              "      <th>cod_mpio</th>\n",
              "      <th>h_5</th>\n",
              "      <th>i1</th>\n",
              "      <th>i2</th>\n",
              "      <th>i3</th>\n",
              "      <th>i4</th>\n",
              "      <th>i5</th>\n",
              "      <th>i6</th>\n",
              "      <th>i7</th>\n",
              "      <th>i8</th>\n",
              "      <th>...</th>\n",
              "      <th>per011</th>\n",
              "      <th>per012</th>\n",
              "      <th>per013</th>\n",
              "      <th>per014</th>\n",
              "      <th>per015</th>\n",
              "      <th>per016</th>\n",
              "      <th>per017</th>\n",
              "      <th>per018</th>\n",
              "      <th>per019</th>\n",
              "      <th>per020</th>\n",
              "    </tr>\n",
              "  </thead>\n",
              "  <tbody>\n",
              "    <tr>\n",
              "      <th>count</th>\n",
              "      <td>1000</td>\n",
              "      <td>1000</td>\n",
              "      <td>1000</td>\n",
              "      <td>1000</td>\n",
              "      <td>1000</td>\n",
              "      <td>1000</td>\n",
              "      <td>1000</td>\n",
              "      <td>1000</td>\n",
              "      <td>1000</td>\n",
              "      <td>1000</td>\n",
              "      <td>...</td>\n",
              "      <td>1000</td>\n",
              "      <td>1000</td>\n",
              "      <td>1000</td>\n",
              "      <td>1000</td>\n",
              "      <td>1000</td>\n",
              "      <td>1000</td>\n",
              "      <td>1000</td>\n",
              "      <td>1000</td>\n",
              "      <td>1000</td>\n",
              "      <td>1000</td>\n",
              "    </tr>\n",
              "    <tr>\n",
              "      <th>unique</th>\n",
              "      <td>1</td>\n",
              "      <td>2</td>\n",
              "      <td>2</td>\n",
              "      <td>2</td>\n",
              "      <td>2</td>\n",
              "      <td>2</td>\n",
              "      <td>2</td>\n",
              "      <td>2</td>\n",
              "      <td>2</td>\n",
              "      <td>2</td>\n",
              "      <td>...</td>\n",
              "      <td>3</td>\n",
              "      <td>3</td>\n",
              "      <td>6</td>\n",
              "      <td>2</td>\n",
              "      <td>3</td>\n",
              "      <td>3</td>\n",
              "      <td>4</td>\n",
              "      <td>4</td>\n",
              "      <td>6</td>\n",
              "      <td>10</td>\n",
              "    </tr>\n",
              "    <tr>\n",
              "      <th>top</th>\n",
              "      <td>05001</td>\n",
              "      <td>0</td>\n",
              "      <td>1</td>\n",
              "      <td>0</td>\n",
              "      <td>0</td>\n",
              "      <td>0</td>\n",
              "      <td>0</td>\n",
              "      <td>0</td>\n",
              "      <td>0</td>\n",
              "      <td>1</td>\n",
              "      <td>...</td>\n",
              "      <td>9</td>\n",
              "      <td>9</td>\n",
              "      <td>9</td>\n",
              "      <td>9</td>\n",
              "      <td>1</td>\n",
              "      <td>2</td>\n",
              "      <td>2</td>\n",
              "      <td>2</td>\n",
              "      <td>2</td>\n",
              "      <td>99</td>\n",
              "    </tr>\n",
              "    <tr>\n",
              "      <th>freq</th>\n",
              "      <td>1000</td>\n",
              "      <td>795</td>\n",
              "      <td>545</td>\n",
              "      <td>854</td>\n",
              "      <td>952</td>\n",
              "      <td>761</td>\n",
              "      <td>763</td>\n",
              "      <td>995</td>\n",
              "      <td>843</td>\n",
              "      <td>569</td>\n",
              "      <td>...</td>\n",
              "      <td>632</td>\n",
              "      <td>515</td>\n",
              "      <td>933</td>\n",
              "      <td>933</td>\n",
              "      <td>868</td>\n",
              "      <td>734</td>\n",
              "      <td>739</td>\n",
              "      <td>628</td>\n",
              "      <td>338</td>\n",
              "      <td>662</td>\n",
              "    </tr>\n",
              "  </tbody>\n",
              "</table>\n",
              "<p>4 rows × 48 columns</p>\n",
              "</div>\n",
              "      <button class=\"colab-df-convert\" onclick=\"convertToInteractive('df-c70e6890-edbc-43d6-8679-cb38bc56c18e')\"\n",
              "              title=\"Convert this dataframe to an interactive table.\"\n",
              "              style=\"display:none;\">\n",
              "        \n",
              "  <svg xmlns=\"http://www.w3.org/2000/svg\" height=\"24px\"viewBox=\"0 0 24 24\"\n",
              "       width=\"24px\">\n",
              "    <path d=\"M0 0h24v24H0V0z\" fill=\"none\"/>\n",
              "    <path d=\"M18.56 5.44l.94 2.06.94-2.06 2.06-.94-2.06-.94-.94-2.06-.94 2.06-2.06.94zm-11 1L8.5 8.5l.94-2.06 2.06-.94-2.06-.94L8.5 2.5l-.94 2.06-2.06.94zm10 10l.94 2.06.94-2.06 2.06-.94-2.06-.94-.94-2.06-.94 2.06-2.06.94z\"/><path d=\"M17.41 7.96l-1.37-1.37c-.4-.4-.92-.59-1.43-.59-.52 0-1.04.2-1.43.59L10.3 9.45l-7.72 7.72c-.78.78-.78 2.05 0 2.83L4 21.41c.39.39.9.59 1.41.59.51 0 1.02-.2 1.41-.59l7.78-7.78 2.81-2.81c.8-.78.8-2.07 0-2.86zM5.41 20L4 18.59l7.72-7.72 1.47 1.35L5.41 20z\"/>\n",
              "  </svg>\n",
              "      </button>\n",
              "      \n",
              "  <style>\n",
              "    .colab-df-container {\n",
              "      display:flex;\n",
              "      flex-wrap:wrap;\n",
              "      gap: 12px;\n",
              "    }\n",
              "\n",
              "    .colab-df-convert {\n",
              "      background-color: #E8F0FE;\n",
              "      border: none;\n",
              "      border-radius: 50%;\n",
              "      cursor: pointer;\n",
              "      display: none;\n",
              "      fill: #1967D2;\n",
              "      height: 32px;\n",
              "      padding: 0 0 0 0;\n",
              "      width: 32px;\n",
              "    }\n",
              "\n",
              "    .colab-df-convert:hover {\n",
              "      background-color: #E2EBFA;\n",
              "      box-shadow: 0px 1px 2px rgba(60, 64, 67, 0.3), 0px 1px 3px 1px rgba(60, 64, 67, 0.15);\n",
              "      fill: #174EA6;\n",
              "    }\n",
              "\n",
              "    [theme=dark] .colab-df-convert {\n",
              "      background-color: #3B4455;\n",
              "      fill: #D2E3FC;\n",
              "    }\n",
              "\n",
              "    [theme=dark] .colab-df-convert:hover {\n",
              "      background-color: #434B5C;\n",
              "      box-shadow: 0px 1px 3px 1px rgba(0, 0, 0, 0.15);\n",
              "      filter: drop-shadow(0px 1px 2px rgba(0, 0, 0, 0.3));\n",
              "      fill: #FFFFFF;\n",
              "    }\n",
              "  </style>\n",
              "\n",
              "      <script>\n",
              "        const buttonEl =\n",
              "          document.querySelector('#df-c70e6890-edbc-43d6-8679-cb38bc56c18e button.colab-df-convert');\n",
              "        buttonEl.style.display =\n",
              "          google.colab.kernel.accessAllowed ? 'block' : 'none';\n",
              "\n",
              "        async function convertToInteractive(key) {\n",
              "          const element = document.querySelector('#df-c70e6890-edbc-43d6-8679-cb38bc56c18e');\n",
              "          const dataTable =\n",
              "            await google.colab.kernel.invokeFunction('convertToInteractive',\n",
              "                                                     [key], {});\n",
              "          if (!dataTable) return;\n",
              "\n",
              "          const docLinkHtml = 'Like what you see? Visit the ' +\n",
              "            '<a target=\"_blank\" href=https://colab.research.google.com/notebooks/data_table.ipynb>data table notebook</a>'\n",
              "            + ' to learn more about interactive tables.';\n",
              "          element.innerHTML = '';\n",
              "          dataTable['output_type'] = 'display_data';\n",
              "          await google.colab.output.renderOutput(dataTable, element);\n",
              "          const docLink = document.createElement('div');\n",
              "          docLink.innerHTML = docLinkHtml;\n",
              "          element.appendChild(docLink);\n",
              "        }\n",
              "      </script>\n",
              "    </div>\n",
              "  </div>\n",
              "  "
            ]
          },
          "metadata": {},
          "execution_count": 4
        }
      ]
    },
    {
      "cell_type": "code",
      "source": [
        "# Se realiza la limpieza y las transformaciones necesarias al dataset.\n",
        "X=pd.DataFrame(datos['h_5'].astype(int).rename('Indicador_IPM')) # Se construye el dataframe para hacer la clasificación por grupo de sisbén.\n",
        "X['Inasistencia_escolar']=datos['i3'].astype(int) # Se convierte el tipo de los datos de la columna 'Inasistencia_escolar' del dataframe a tipo entero.\n",
        "X['Rezago_escolar']=datos['i14'].astype(int) # Se convierte el tipo de los datos de la columna 'Rezago_escolar' del dataframe a tipo entero.\n",
        "X['Nivel_Sisbén']=datos['nivel'].astype(int) # Se convierte el tipo de los datos de la columna 'Nivel_Sisbén' del dataframe a tipo entero.\n",
        "X['Identifi_vivienda']=datos['llave'].astype(int) # Se convierte el tipo de los datos de la columna 'Identifi_vivienda' del dataframe a tipo entero.\n",
        "X.dropna(axis=0, how='any') # Se borran los valores nulos.\n",
        "\n",
        "X.head() # Se imprimen las primeras cinco filas del dataset."
      ],
      "metadata": {
        "colab": {
          "base_uri": "https://localhost:8080/",
          "height": 270
        },
        "id": "AuhElEITrA-F",
        "outputId": "c23d0ff7-c003-47be-f511-8d00a4ae469a"
      },
      "execution_count": 5,
      "outputs": [
        {
          "output_type": "execute_result",
          "data": {
            "text/plain": [
              "   Indicador_IPM  Inasistencia_escolar  Rezago_escolar  Nivel_Sisbén  \\\n",
              "0              1                     1               0             3   \n",
              "1              1                     1               0             3   \n",
              "2              0                     0               0             8   \n",
              "3              0                     0               0             8   \n",
              "4              0                     0               0             8   \n",
              "\n",
              "   Identifi_vivienda  \n",
              "0                  1  \n",
              "1                  1  \n",
              "2                  2  \n",
              "3                  2  \n",
              "4                  2  "
            ],
            "text/html": [
              "\n",
              "  <div id=\"df-69ef892d-0cc1-4cca-8f05-12e2b1406307\">\n",
              "    <div class=\"colab-df-container\">\n",
              "      <div>\n",
              "<style scoped>\n",
              "    .dataframe tbody tr th:only-of-type {\n",
              "        vertical-align: middle;\n",
              "    }\n",
              "\n",
              "    .dataframe tbody tr th {\n",
              "        vertical-align: top;\n",
              "    }\n",
              "\n",
              "    .dataframe thead th {\n",
              "        text-align: right;\n",
              "    }\n",
              "</style>\n",
              "<table border=\"1\" class=\"dataframe\">\n",
              "  <thead>\n",
              "    <tr style=\"text-align: right;\">\n",
              "      <th></th>\n",
              "      <th>Indicador_IPM</th>\n",
              "      <th>Inasistencia_escolar</th>\n",
              "      <th>Rezago_escolar</th>\n",
              "      <th>Nivel_Sisbén</th>\n",
              "      <th>Identifi_vivienda</th>\n",
              "    </tr>\n",
              "  </thead>\n",
              "  <tbody>\n",
              "    <tr>\n",
              "      <th>0</th>\n",
              "      <td>1</td>\n",
              "      <td>1</td>\n",
              "      <td>0</td>\n",
              "      <td>3</td>\n",
              "      <td>1</td>\n",
              "    </tr>\n",
              "    <tr>\n",
              "      <th>1</th>\n",
              "      <td>1</td>\n",
              "      <td>1</td>\n",
              "      <td>0</td>\n",
              "      <td>3</td>\n",
              "      <td>1</td>\n",
              "    </tr>\n",
              "    <tr>\n",
              "      <th>2</th>\n",
              "      <td>0</td>\n",
              "      <td>0</td>\n",
              "      <td>0</td>\n",
              "      <td>8</td>\n",
              "      <td>2</td>\n",
              "    </tr>\n",
              "    <tr>\n",
              "      <th>3</th>\n",
              "      <td>0</td>\n",
              "      <td>0</td>\n",
              "      <td>0</td>\n",
              "      <td>8</td>\n",
              "      <td>2</td>\n",
              "    </tr>\n",
              "    <tr>\n",
              "      <th>4</th>\n",
              "      <td>0</td>\n",
              "      <td>0</td>\n",
              "      <td>0</td>\n",
              "      <td>8</td>\n",
              "      <td>2</td>\n",
              "    </tr>\n",
              "  </tbody>\n",
              "</table>\n",
              "</div>\n",
              "      <button class=\"colab-df-convert\" onclick=\"convertToInteractive('df-69ef892d-0cc1-4cca-8f05-12e2b1406307')\"\n",
              "              title=\"Convert this dataframe to an interactive table.\"\n",
              "              style=\"display:none;\">\n",
              "        \n",
              "  <svg xmlns=\"http://www.w3.org/2000/svg\" height=\"24px\"viewBox=\"0 0 24 24\"\n",
              "       width=\"24px\">\n",
              "    <path d=\"M0 0h24v24H0V0z\" fill=\"none\"/>\n",
              "    <path d=\"M18.56 5.44l.94 2.06.94-2.06 2.06-.94-2.06-.94-.94-2.06-.94 2.06-2.06.94zm-11 1L8.5 8.5l.94-2.06 2.06-.94-2.06-.94L8.5 2.5l-.94 2.06-2.06.94zm10 10l.94 2.06.94-2.06 2.06-.94-2.06-.94-.94-2.06-.94 2.06-2.06.94z\"/><path d=\"M17.41 7.96l-1.37-1.37c-.4-.4-.92-.59-1.43-.59-.52 0-1.04.2-1.43.59L10.3 9.45l-7.72 7.72c-.78.78-.78 2.05 0 2.83L4 21.41c.39.39.9.59 1.41.59.51 0 1.02-.2 1.41-.59l7.78-7.78 2.81-2.81c.8-.78.8-2.07 0-2.86zM5.41 20L4 18.59l7.72-7.72 1.47 1.35L5.41 20z\"/>\n",
              "  </svg>\n",
              "      </button>\n",
              "      \n",
              "  <style>\n",
              "    .colab-df-container {\n",
              "      display:flex;\n",
              "      flex-wrap:wrap;\n",
              "      gap: 12px;\n",
              "    }\n",
              "\n",
              "    .colab-df-convert {\n",
              "      background-color: #E8F0FE;\n",
              "      border: none;\n",
              "      border-radius: 50%;\n",
              "      cursor: pointer;\n",
              "      display: none;\n",
              "      fill: #1967D2;\n",
              "      height: 32px;\n",
              "      padding: 0 0 0 0;\n",
              "      width: 32px;\n",
              "    }\n",
              "\n",
              "    .colab-df-convert:hover {\n",
              "      background-color: #E2EBFA;\n",
              "      box-shadow: 0px 1px 2px rgba(60, 64, 67, 0.3), 0px 1px 3px 1px rgba(60, 64, 67, 0.15);\n",
              "      fill: #174EA6;\n",
              "    }\n",
              "\n",
              "    [theme=dark] .colab-df-convert {\n",
              "      background-color: #3B4455;\n",
              "      fill: #D2E3FC;\n",
              "    }\n",
              "\n",
              "    [theme=dark] .colab-df-convert:hover {\n",
              "      background-color: #434B5C;\n",
              "      box-shadow: 0px 1px 3px 1px rgba(0, 0, 0, 0.15);\n",
              "      filter: drop-shadow(0px 1px 2px rgba(0, 0, 0, 0.3));\n",
              "      fill: #FFFFFF;\n",
              "    }\n",
              "  </style>\n",
              "\n",
              "      <script>\n",
              "        const buttonEl =\n",
              "          document.querySelector('#df-69ef892d-0cc1-4cca-8f05-12e2b1406307 button.colab-df-convert');\n",
              "        buttonEl.style.display =\n",
              "          google.colab.kernel.accessAllowed ? 'block' : 'none';\n",
              "\n",
              "        async function convertToInteractive(key) {\n",
              "          const element = document.querySelector('#df-69ef892d-0cc1-4cca-8f05-12e2b1406307');\n",
              "          const dataTable =\n",
              "            await google.colab.kernel.invokeFunction('convertToInteractive',\n",
              "                                                     [key], {});\n",
              "          if (!dataTable) return;\n",
              "\n",
              "          const docLinkHtml = 'Like what you see? Visit the ' +\n",
              "            '<a target=\"_blank\" href=https://colab.research.google.com/notebooks/data_table.ipynb>data table notebook</a>'\n",
              "            + ' to learn more about interactive tables.';\n",
              "          element.innerHTML = '';\n",
              "          dataTable['output_type'] = 'display_data';\n",
              "          await google.colab.output.renderOutput(dataTable, element);\n",
              "          const docLink = document.createElement('div');\n",
              "          docLink.innerHTML = docLinkHtml;\n",
              "          element.appendChild(docLink);\n",
              "        }\n",
              "      </script>\n",
              "    </div>\n",
              "  </div>\n",
              "  "
            ]
          },
          "metadata": {},
          "execution_count": 5
        }
      ]
    },
    {
      "cell_type": "code",
      "source": [
        "X.info() # Información general del dataset."
      ],
      "metadata": {
        "colab": {
          "base_uri": "https://localhost:8080/"
        },
        "id": "cMLOX6wbrJ7T",
        "outputId": "6c84b07b-97e9-47ca-b058-f041ffc6dcb2"
      },
      "execution_count": 6,
      "outputs": [
        {
          "output_type": "stream",
          "name": "stdout",
          "text": [
            "<class 'pandas.core.frame.DataFrame'>\n",
            "RangeIndex: 1000 entries, 0 to 999\n",
            "Data columns (total 5 columns):\n",
            " #   Column                Non-Null Count  Dtype\n",
            "---  ------                --------------  -----\n",
            " 0   Indicador_IPM         1000 non-null   int64\n",
            " 1   Inasistencia_escolar  1000 non-null   int64\n",
            " 2   Rezago_escolar        1000 non-null   int64\n",
            " 3   Nivel_Sisbén          1000 non-null   int64\n",
            " 4   Identifi_vivienda     1000 non-null   int64\n",
            "dtypes: int64(5)\n",
            "memory usage: 39.2 KB\n"
          ]
        }
      ]
    },
    {
      "cell_type": "code",
      "source": [
        "# Utiliza el label_encoder para asignar un valor numérico a la variable \"grupo\".\n",
        "from sklearn.preprocessing import LabelEncoder\n",
        "def label_encoder(datos_categoria):\n",
        "    le = LabelEncoder()\n",
        "    datos[datos_categoria] = le.fit_transform(datos[datos_categoria])\n",
        "\n",
        "variables = [\"grupo\"]\n",
        "\n",
        "for l in variables:\n",
        "    label_encoder(l)\n",
        "\n",
        "y=datos[\"grupo\"] # Se crea la variable predictora y."
      ],
      "metadata": {
        "id": "fmWTaXqJBAtH"
      },
      "execution_count": 7,
      "outputs": []
    },
    {
      "cell_type": "code",
      "source": [
        "# Se verifica que la variable \"grupo\" se cambió a valores numéricos.\n",
        "y.head()"
      ],
      "metadata": {
        "colab": {
          "base_uri": "https://localhost:8080/"
        },
        "id": "cAYlHe3VtUab",
        "outputId": "bf1840e7-c14e-4bc9-974d-044979b49d0d"
      },
      "execution_count": 8,
      "outputs": [
        {
          "output_type": "execute_result",
          "data": {
            "text/plain": [
              "0    2\n",
              "1    2\n",
              "2    2\n",
              "3    2\n",
              "4    2\n",
              "Name: grupo, dtype: int64"
            ]
          },
          "metadata": {},
          "execution_count": 8
        }
      ]
    },
    {
      "cell_type": "code",
      "source": [
        "# Se crea una función para contar los elementos únicos de una lista o columna de dataset.\n",
        "def contar(n, vec):\n",
        "  '''Para esta funcion n es el numero a contar y vec es la lista donde contar '''\n",
        "  count=0\n",
        "  for i in vec:\n",
        "    if i==n:\n",
        "      count+=1\n",
        "  return count"
      ],
      "metadata": {
        "id": "p6if4NCnB0Eh"
      },
      "execution_count": 9,
      "outputs": []
    },
    {
      "cell_type": "code",
      "source": [
        "# Frecuencia de los grupos de la variable predictora y.\n",
        "fa_y=[]\n",
        "cont=0\n",
        "for i in range(min(y),max(y)+1):\n",
        "  fa_y.append(contar(i,y))\n",
        "  print(i, 'Se repite -->',fa_y[cont])\n",
        "  cont+=1"
      ],
      "metadata": {
        "colab": {
          "base_uri": "https://localhost:8080/"
        },
        "id": "FPGvevD8xj3W",
        "outputId": "f78f8c16-f4a8-4b61-a829-3b61a4770c78"
      },
      "execution_count": 10,
      "outputs": [
        {
          "output_type": "stream",
          "name": "stdout",
          "text": [
            "0 Se repite --> 66\n",
            "1 Se repite --> 236\n",
            "2 Se repite --> 504\n",
            "3 Se repite --> 194\n"
          ]
        }
      ]
    },
    {
      "cell_type": "markdown",
      "source": [
        ">*  Dividir el conjunto entre datos de entrenamiento y datos de prueba, los datos de\n",
        "prueba serán el 15% del dataset\n"
      ],
      "metadata": {
        "id": "qrmzOFGxdaIa"
      }
    },
    {
      "cell_type": "code",
      "source": [
        "# Se cargarán las librerías requeridas, en este caso dos funcionalidades que hacen parte de submódulos de sklearn.\n",
        "from sklearn.neighbors import KNeighborsClassifier # Es el clasificador de K vecinos más cercanos.\n",
        "from sklearn.model_selection import train_test_split # Es el que divide el dataset entre datos de prueba y datos de entrenamiento.\n",
        "\n",
        "# Se divide el data set en conjunto de datos de prueba y de entrenamiento.\n",
        "X_train,X_test,y_train,y_test=train_test_split(X,y, test_size=0.15,random_state=123, stratify=y)\n",
        "\n",
        "# Se comprueba que la división del dataset los datos de prueba corresponden al 15%.\n",
        "print('------------')\n",
        "print('------------')\n",
        "print(len(X_train),'X_train')\n",
        "print(len(y_train),'y_train')\n",
        "print('------------')\n",
        "print(len(X_test),'X_test')\n",
        "print(len(y_test),'y_test')\n",
        "print('------------')\n",
        "print('------------')"
      ],
      "metadata": {
        "colab": {
          "base_uri": "https://localhost:8080/"
        },
        "id": "yv9-tpclEklG",
        "outputId": "aa0ba763-83a1-44c5-9108-4c118e755bed"
      },
      "execution_count": 11,
      "outputs": [
        {
          "output_type": "stream",
          "name": "stdout",
          "text": [
            "------------\n",
            "------------\n",
            "850 X_train\n",
            "850 y_train\n",
            "------------\n",
            "150 X_test\n",
            "150 y_test\n",
            "------------\n",
            "------------\n"
          ]
        }
      ]
    },
    {
      "cell_type": "markdown",
      "source": [
        ">*  Aplicar el algoritmo de clasificación de los K vecinos más cercanos"
      ],
      "metadata": {
        "id": "sIsZ05vM2NBA"
      }
    },
    {
      "cell_type": "code",
      "source": [
        "# Prueba de número de vecinos.\n",
        "# Se crearán diccionarios que contendrán los puntajes tanto para el conjunto de entrenamiento como para el conjunto de prueba,\n",
        "# y se calcularán dichos puntajes para un número de vecinos que varía entre 1 y 9.\n",
        "train_scores={}\n",
        "test_scores={}\n",
        "neighbors=np.arange(1,10)\n",
        "for neighbor in neighbors:\n",
        "  Knn=KNeighborsClassifier(n_neighbors=neighbor)\n",
        "  Knn.fit(X_train,y_train)\n",
        "  train_scores[neighbor]=Knn.score(X_train,y_train)\n",
        "  test_scores[neighbor]=Knn.score(X_test,y_test)\n",
        "\n",
        "# Se muestra los resultados.\n",
        "print('-------------------------------------')\n",
        "print('Resultado de score de entrenamiento')\n",
        "print(train_scores)\n",
        "print('-------------------------------------')\n",
        "print('Resultado de score de prueba')\n",
        "print(test_scores)"
      ],
      "metadata": {
        "colab": {
          "base_uri": "https://localhost:8080/"
        },
        "id": "sAyA34inCNex",
        "outputId": "eae3e1a5-a182-458b-9bba-c1c464f0092b"
      },
      "execution_count": 12,
      "outputs": [
        {
          "output_type": "stream",
          "name": "stdout",
          "text": [
            "-------------------------------------\n",
            "Resultado de score de entrenamiento\n",
            "{1: 1.0, 2: 0.9623529411764706, 3: 0.9505882352941176, 4: 0.8729411764705882, 5: 0.8564705882352941, 6: 0.8070588235294117, 7: 0.7823529411764706, 8: 0.7435294117647059, 9: 0.7141176470588235}\n",
            "-------------------------------------\n",
            "Resultado de score de prueba\n",
            "{1: 0.9333333333333333, 2: 0.8666666666666667, 3: 0.82, 4: 0.7333333333333333, 5: 0.7333333333333333, 6: 0.66, 7: 0.6533333333333333, 8: 0.6266666666666667, 9: 0.6}\n"
          ]
        }
      ]
    },
    {
      "cell_type": "code",
      "source": [
        "# Gráfica de los puntajes score.\n",
        "plt.plot(list(train_scores.values()), 'r--', label='Train')\n",
        "plt.plot(list(test_scores.values()), 'b*-', label='Test')\n",
        "plt.legend()\n",
        "plt.xlabel('Vecios')\n",
        "plt.ylabel('Porcentaje')\n",
        "plt.title('Comparación de rendimiento de vecinos')\n",
        "plt.grid()\n",
        "plt.show()"
      ],
      "metadata": {
        "colab": {
          "base_uri": "https://localhost:8080/",
          "height": 472
        },
        "id": "Z10Ibi6eC8W1",
        "outputId": "7ed50dbc-b0c2-4ec7-b8f4-03aa4fae876e"
      },
      "execution_count": 13,
      "outputs": [
        {
          "output_type": "display_data",
          "data": {
            "text/plain": [
              "<Figure size 640x480 with 1 Axes>"
            ],
            "image/png": "[encoded data removed]"
          },
          "metadata": {}
        }
      ]
    },
    {
      "cell_type": "markdown",
      "source": [
        ">>  En cuanto al comportamiento de los vecinos respecto al puntaje \"score\" podemos concluir según la gráfica respecto a la tendencia de los puntajes de entrenamiento y prueba; y sus respectivos valores para diferentes k. El número de vecinos óptimo, es de  k=1 porque se observa que alcanza su punto máximo en el porcentaje correspondiente a 1 en entrenamiento y 0.933 en prueba y luego disminuye gradualmente a medida que aumenta k. Por lo tanto, el parámetro de vecinos fijado en uno es el apropiado en los datos de entrenamiento como en los de prueba."
      ],
      "metadata": {
        "id": "G8WkQ_43PXrc"
      }
    },
    {
      "cell_type": "code",
      "source": [
        "# Implementación del modelo de los K vecinos más cercanos.\n",
        "Knn=KNeighborsClassifier(n_neighbors=1) # Se instala al clasificador con el parámetro n_neighbors=1.\n",
        "Knn.fit(X_train,y_train) # Se procede a entrenar el modelo con los datos dispuestos para este fin."
      ],
      "metadata": {
        "colab": {
          "base_uri": "https://localhost:8080/",
          "height": 75
        },
        "id": "_X-aFNmq_NKF",
        "outputId": "906b199e-68e3-4d9a-85a3-56aab9d93730"
      },
      "execution_count": 14,
      "outputs": [
        {
          "output_type": "execute_result",
          "data": {
            "text/plain": [
              "KNeighborsClassifier(n_neighbors=1)"
            ],
            "text/html": [
              "<style>#sk-container-id-1 {color: black;background-color: white;}#sk-container-id-1 pre{padding: 0;}#sk-container-id-1 div.sk-toggleable {background-color: white;}#sk-container-id-1 label.sk-toggleable__label {cursor: pointer;display: block;width: 100%;margin-bottom: 0;padding: 0.3em;box-sizing: border-box;text-align: center;}#sk-container-id-1 label.sk-toggleable__label-arrow:before {content: \"▸\";float: left;margin-right: 0.25em;color: #696969;}#sk-container-id-1 label.sk-toggleable__label-arrow:hover:before {color: black;}#sk-container-id-1 div.sk-estimator:hover label.sk-toggleable__label-arrow:before {color: black;}#sk-container-id-1 div.sk-toggleable__content {max-height: 0;max-width: 0;overflow: hidden;text-align: left;background-color: #f0f8ff;}#sk-container-id-1 div.sk-toggleable__content pre {margin: 0.2em;color: black;border-radius: 0.25em;background-color: #f0f8ff;}#sk-container-id-1 input.sk-toggleable__control:checked~div.sk-toggleable__content {max-height: 200px;max-width: 100%;overflow: auto;}#sk-container-id-1 input.sk-toggleable__control:checked~label.sk-toggleable__label-arrow:before {content: \"▾\";}#sk-container-id-1 div.sk-estimator input.sk-toggleable__control:checked~label.sk-toggleable__label {background-color: #d4ebff;}#sk-container-id-1 div.sk-label input.sk-toggleable__control:checked~label.sk-toggleable__label {background-color: #d4ebff;}#sk-container-id-1 input.sk-hidden--visually {border: 0;clip: rect(1px 1px 1px 1px);clip: rect(1px, 1px, 1px, 1px);height: 1px;margin: -1px;overflow: hidden;padding: 0;position: absolute;width: 1px;}#sk-container-id-1 div.sk-estimator {font-family: monospace;background-color: #f0f8ff;border: 1px dotted black;border-radius: 0.25em;box-sizing: border-box;margin-bottom: 0.5em;}#sk-container-id-1 div.sk-estimator:hover {background-color: #d4ebff;}#sk-container-id-1 div.sk-parallel-item::after {content: \"\";width: 100%;border-bottom: 1px solid gray;flex-grow: 1;}#sk-container-id-1 div.sk-label:hover label.sk-toggleable__label {background-color: #d4ebff;}#sk-container-id-1 div.sk-serial::before {content: \"\";position: absolute;border-left: 1px solid gray;box-sizing: border-box;top: 0;bottom: 0;left: 50%;z-index: 0;}#sk-container-id-1 div.sk-serial {display: flex;flex-direction: column;align-items: center;background-color: white;padding-right: 0.2em;padding-left: 0.2em;position: relative;}#sk-container-id-1 div.sk-item {position: relative;z-index: 1;}#sk-container-id-1 div.sk-parallel {display: flex;align-items: stretch;justify-content: center;background-color: white;position: relative;}#sk-container-id-1 div.sk-item::before, #sk-container-id-1 div.sk-parallel-item::before {content: \"\";position: absolute;border-left: 1px solid gray;box-sizing: border-box;top: 0;bottom: 0;left: 50%;z-index: -1;}#sk-container-id-1 div.sk-parallel-item {display: flex;flex-direction: column;z-index: 1;position: relative;background-color: white;}#sk-container-id-1 div.sk-parallel-item:first-child::after {align-self: flex-end;width: 50%;}#sk-container-id-1 div.sk-parallel-item:last-child::after {align-self: flex-start;width: 50%;}#sk-container-id-1 div.sk-parallel-item:only-child::after {width: 0;}#sk-container-id-1 div.sk-dashed-wrapped {border: 1px dashed gray;margin: 0 0.4em 0.5em 0.4em;box-sizing: border-box;padding-bottom: 0.4em;background-color: white;}#sk-container-id-1 div.sk-label label {font-family: monospace;font-weight: bold;display: inline-block;line-height: 1.2em;}#sk-container-id-1 div.sk-label-container {text-align: center;}#sk-container-id-1 div.sk-container {/* jupyter's `normalize.less` sets `[hidden] { display: none; }` but bootstrap.min.css set `[hidden] { display: none !important; }` so we also need the `!important` here to be able to override the default hidden behavior on the sphinx rendered scikit-learn.org. See: https://github.com/scikit-learn/scikit-learn/issues/21755 */display: inline-block !important;position: relative;}#sk-container-id-1 div.sk-text-repr-fallback {display: none;}</style><div id=\"sk-container-id-1\" class=\"sk-top-container\"><div class=\"sk-text-repr-fallback\"><pre>KNeighborsClassifier(n_neighbors=1)</pre><b>In a Jupyter environment, please rerun this cell to show the HTML representation or trust the notebook. <br />On GitHub, the HTML representation is unable to render, please try loading this page with nbviewer.org.</b></div><div class=\"sk-container\" hidden><div class=\"sk-item\"><div class=\"sk-estimator sk-toggleable\"><input class=\"sk-toggleable__control sk-hidden--visually\" id=\"sk-estimator-id-1\" type=\"checkbox\" checked><label for=\"sk-estimator-id-1\" class=\"sk-toggleable__label sk-toggleable__label-arrow\">KNeighborsClassifier</label><div class=\"sk-toggleable__content\"><pre>KNeighborsClassifier(n_neighbors=1)</pre></div></div></div></div></div>"
            ]
          },
          "metadata": {},
          "execution_count": 14
        }
      ]
    },
    {
      "cell_type": "markdown",
      "source": [
        ">*  Calcular los puntajes de la clasificación"
      ],
      "metadata": {
        "id": "hyRLZUPojI00"
      }
    },
    {
      "cell_type": "code",
      "source": [
        "# Se muestra los resultados.\n",
        "print('------------------------')\n",
        "print('Resultados obtenidos')\n",
        "print(Knn.predict(X_test)) # Se predice a qué grupo de sisbén pertenecen los datos de prueba, obteniendo el listado.\n",
        "print('------------------------')\n",
        "print('Score de validación')\n",
        "Knn.score(X_test,y_test) # Se procede a calcular el puntaje de la clasificación realizada para los datos de prueba."
      ],
      "metadata": {
        "colab": {
          "base_uri": "https://localhost:8080/"
        },
        "id": "dQBmr9QJjIWa",
        "outputId": "87ccdf31-4489-4bdf-de67-a052fe75ef49"
      },
      "execution_count": 15,
      "outputs": [
        {
          "output_type": "stream",
          "name": "stdout",
          "text": [
            "------------------------\n",
            "Resultados obtenidos\n",
            "[0 0 1 2 1 3 3 2 2 3 3 2 2 2 2 2 1 2 3 3 2 0 3 2 3 2 2 2 1 2 1 2 2 1 2 1 2\n",
            " 0 2 1 1 2 2 0 2 3 2 2 1 2 1 2 2 2 1 3 1 2 2 3 2 2 1 2 2 2 3 2 2 3 3 1 1 2\n",
            " 2 2 2 2 2 1 2 3 1 2 2 3 2 3 1 3 3 2 2 3 2 1 2 2 1 1 2 3 1 0 1 2 1 3 1 1 2\n",
            " 2 0 3 3 0 2 2 2 3 3 3 2 1 2 2 1 2 1 2 0 2 3 1 0 2 1 1 1 2 3 3 2 2 2 2 1 2\n",
            " 3 2]\n",
            "------------------------\n",
            "Score de validación\n"
          ]
        },
        {
          "output_type": "execute_result",
          "data": {
            "text/plain": [
              "0.9333333333333333"
            ]
          },
          "metadata": {},
          "execution_count": 15
        }
      ]
    },
    {
      "cell_type": "code",
      "source": [
        "# Se compara la predicción hecha para los datos de prueba.\n",
        "print('------------------------')\n",
        "print('Clasificación establecida en los datos de prueba.')\n",
        "print(y_test.values)\n",
        "print('------------------------')\n",
        "print('Resultados de la predicción datos de prueba.')\n",
        "print(Knn.predict(X_test))"
      ],
      "metadata": {
        "colab": {
          "base_uri": "https://localhost:8080/"
        },
        "id": "Skz3tmwrDeCW",
        "outputId": "27f2d39b-493c-43c8-b2d9-3d39a0baea76"
      },
      "execution_count": 16,
      "outputs": [
        {
          "output_type": "stream",
          "name": "stdout",
          "text": [
            "------------------------\n",
            "Clasificación establecida en los datos de prueba.\n",
            "[0 0 1 3 1 3 3 2 3 3 2 2 2 2 2 2 1 2 3 3 2 0 2 2 3 2 2 2 1 2 1 2 2 1 2 1 3\n",
            " 0 2 1 1 2 2 0 2 3 2 2 1 2 1 2 2 2 1 3 1 2 2 3 2 2 1 2 2 3 3 2 2 2 2 1 1 2\n",
            " 2 2 2 2 2 1 2 3 1 2 2 3 2 3 1 3 3 2 2 3 2 1 2 2 1 1 2 3 1 0 1 2 1 2 1 1 2\n",
            " 2 0 3 2 0 2 2 2 3 3 3 2 1 2 2 1 2 1 2 0 2 3 1 0 2 1 1 1 2 3 3 2 2 2 2 1 2\n",
            " 3 2]\n",
            "------------------------\n",
            "Resultados de la predicción datos de prueba.\n",
            "[0 0 1 2 1 3 3 2 2 3 3 2 2 2 2 2 1 2 3 3 2 0 3 2 3 2 2 2 1 2 1 2 2 1 2 1 2\n",
            " 0 2 1 1 2 2 0 2 3 2 2 1 2 1 2 2 2 1 3 1 2 2 3 2 2 1 2 2 2 3 2 2 3 3 1 1 2\n",
            " 2 2 2 2 2 1 2 3 1 2 2 3 2 3 1 3 3 2 2 3 2 1 2 2 1 1 2 3 1 0 1 2 1 3 1 1 2\n",
            " 2 0 3 3 0 2 2 2 3 3 3 2 1 2 2 1 2 1 2 0 2 3 1 0 2 1 1 1 2 3 3 2 2 2 2 1 2\n",
            " 3 2]\n"
          ]
        }
      ]
    },
    {
      "cell_type": "code",
      "source": [
        "# Matriz de confusión\n",
        "from sklearn.metrics import confusion_matrix\n",
        "CM=confusion_matrix(y_test,Knn.predict(X_test))\n",
        "\n",
        "# Nombres de filas y columnas\n",
        "filas = ['Grupo sisben A', 'Grupo sisben B', 'Grupo sisben C', 'Grupo sisben D']\n",
        "columnas = ['Grupo sisben A', 'Grupo sisben B', 'Grupo sisben C', 'Grupo sisben D']\n",
        "\n",
        "# Crear DataFrame\n",
        "dfConfusión = pd.DataFrame(CM, index=filas, columns=columnas)\n",
        "dfConfusión.index.name = 'Reales'\n",
        "dfConfusión.columns.name = 'Predicciones'\n",
        "dfConfusión # Se presenta la matriz de confusión."
      ],
      "metadata": {
        "colab": {
          "base_uri": "https://localhost:8080/",
          "height": 320
        },
        "id": "GIZUZNJ0DqIb",
        "outputId": "940bc29a-5782-4c84-f7e7-724b3281bf33"
      },
      "execution_count": 17,
      "outputs": [
        {
          "output_type": "execute_result",
          "data": {
            "text/plain": [
              "Predicciones    Grupo sisben A  Grupo sisben B  Grupo sisben C  Grupo sisben D\n",
              "Reales                                                                        \n",
              "Grupo sisben A              10               0               0               0\n",
              "Grupo sisben B               0              35               0               0\n",
              "Grupo sisben C               0               0              70               6\n",
              "Grupo sisben D               0               0               4              25"
            ],
            "text/html": [
              "\n",
              "  <div id=\"df-4b77a4d5-6a8b-4020-95c7-390b482582be\">\n",
              "    <div class=\"colab-df-container\">\n",
              "      <div>\n",
              "<style scoped>\n",
              "    .dataframe tbody tr th:only-of-type {\n",
              "        vertical-align: middle;\n",
              "    }\n",
              "\n",
              "    .dataframe tbody tr th {\n",
              "        vertical-align: top;\n",
              "    }\n",
              "\n",
              "    .dataframe thead th {\n",
              "        text-align: right;\n",
              "    }\n",
              "</style>\n",
              "<table border=\"1\" class=\"dataframe\">\n",
              "  <thead>\n",
              "    <tr style=\"text-align: right;\">\n",
              "      <th>Predicciones</th>\n",
              "      <th>Grupo sisben A</th>\n",
              "      <th>Grupo sisben B</th>\n",
              "      <th>Grupo sisben C</th>\n",
              "      <th>Grupo sisben D</th>\n",
              "    </tr>\n",
              "    <tr>\n",
              "      <th>Reales</th>\n",
              "      <th></th>\n",
              "      <th></th>\n",
              "      <th></th>\n",
              "      <th></th>\n",
              "    </tr>\n",
              "  </thead>\n",
              "  <tbody>\n",
              "    <tr>\n",
              "      <th>Grupo sisben A</th>\n",
              "      <td>10</td>\n",
              "      <td>0</td>\n",
              "      <td>0</td>\n",
              "      <td>0</td>\n",
              "    </tr>\n",
              "    <tr>\n",
              "      <th>Grupo sisben B</th>\n",
              "      <td>0</td>\n",
              "      <td>35</td>\n",
              "      <td>0</td>\n",
              "      <td>0</td>\n",
              "    </tr>\n",
              "    <tr>\n",
              "      <th>Grupo sisben C</th>\n",
              "      <td>0</td>\n",
              "      <td>0</td>\n",
              "      <td>70</td>\n",
              "      <td>6</td>\n",
              "    </tr>\n",
              "    <tr>\n",
              "      <th>Grupo sisben D</th>\n",
              "      <td>0</td>\n",
              "      <td>0</td>\n",
              "      <td>4</td>\n",
              "      <td>25</td>\n",
              "    </tr>\n",
              "  </tbody>\n",
              "</table>\n",
              "</div>\n",
              "      <button class=\"colab-df-convert\" onclick=\"convertToInteractive('df-4b77a4d5-6a8b-4020-95c7-390b482582be')\"\n",
              "              title=\"Convert this dataframe to an interactive table.\"\n",
              "              style=\"display:none;\">\n",
              "        \n",
              "  <svg xmlns=\"http://www.w3.org/2000/svg\" height=\"24px\"viewBox=\"0 0 24 24\"\n",
              "       width=\"24px\">\n",
              "    <path d=\"M0 0h24v24H0V0z\" fill=\"none\"/>\n",
              "    <path d=\"M18.56 5.44l.94 2.06.94-2.06 2.06-.94-2.06-.94-.94-2.06-.94 2.06-2.06.94zm-11 1L8.5 8.5l.94-2.06 2.06-.94-2.06-.94L8.5 2.5l-.94 2.06-2.06.94zm10 10l.94 2.06.94-2.06 2.06-.94-2.06-.94-.94-2.06-.94 2.06-2.06.94z\"/><path d=\"M17.41 7.96l-1.37-1.37c-.4-.4-.92-.59-1.43-.59-.52 0-1.04.2-1.43.59L10.3 9.45l-7.72 7.72c-.78.78-.78 2.05 0 2.83L4 21.41c.39.39.9.59 1.41.59.51 0 1.02-.2 1.41-.59l7.78-7.78 2.81-2.81c.8-.78.8-2.07 0-2.86zM5.41 20L4 18.59l7.72-7.72 1.47 1.35L5.41 20z\"/>\n",
              "  </svg>\n",
              "      </button>\n",
              "      \n",
              "  <style>\n",
              "    .colab-df-container {\n",
              "      display:flex;\n",
              "      flex-wrap:wrap;\n",
              "      gap: 12px;\n",
              "    }\n",
              "\n",
              "    .colab-df-convert {\n",
              "      background-color: #E8F0FE;\n",
              "      border: none;\n",
              "      border-radius: 50%;\n",
              "      cursor: pointer;\n",
              "      display: none;\n",
              "      fill: #1967D2;\n",
              "      height: 32px;\n",
              "      padding: 0 0 0 0;\n",
              "      width: 32px;\n",
              "    }\n",
              "\n",
              "    .colab-df-convert:hover {\n",
              "      background-color: #E2EBFA;\n",
              "      box-shadow: 0px 1px 2px rgba(60, 64, 67, 0.3), 0px 1px 3px 1px rgba(60, 64, 67, 0.15);\n",
              "      fill: #174EA6;\n",
              "    }\n",
              "\n",
              "    [theme=dark] .colab-df-convert {\n",
              "      background-color: #3B4455;\n",
              "      fill: #D2E3FC;\n",
              "    }\n",
              "\n",
              "    [theme=dark] .colab-df-convert:hover {\n",
              "      background-color: #434B5C;\n",
              "      box-shadow: 0px 1px 3px 1px rgba(0, 0, 0, 0.15);\n",
              "      filter: drop-shadow(0px 1px 2px rgba(0, 0, 0, 0.3));\n",
              "      fill: #FFFFFF;\n",
              "    }\n",
              "  </style>\n",
              "\n",
              "      <script>\n",
              "        const buttonEl =\n",
              "          document.querySelector('#df-4b77a4d5-6a8b-4020-95c7-390b482582be button.colab-df-convert');\n",
              "        buttonEl.style.display =\n",
              "          google.colab.kernel.accessAllowed ? 'block' : 'none';\n",
              "\n",
              "        async function convertToInteractive(key) {\n",
              "          const element = document.querySelector('#df-4b77a4d5-6a8b-4020-95c7-390b482582be');\n",
              "          const dataTable =\n",
              "            await google.colab.kernel.invokeFunction('convertToInteractive',\n",
              "                                                     [key], {});\n",
              "          if (!dataTable) return;\n",
              "\n",
              "          const docLinkHtml = 'Like what you see? Visit the ' +\n",
              "            '<a target=\"_blank\" href=https://colab.research.google.com/notebooks/data_table.ipynb>data table notebook</a>'\n",
              "            + ' to learn more about interactive tables.';\n",
              "          element.innerHTML = '';\n",
              "          dataTable['output_type'] = 'display_data';\n",
              "          await google.colab.output.renderOutput(dataTable, element);\n",
              "          const docLink = document.createElement('div');\n",
              "          docLink.innerHTML = docLinkHtml;\n",
              "          element.appendChild(docLink);\n",
              "        }\n",
              "      </script>\n",
              "    </div>\n",
              "  </div>\n",
              "  "
            ]
          },
          "metadata": {},
          "execution_count": 17
        }
      ]
    },
    {
      "cell_type": "markdown",
      "source": [
        "\n",
        "\n",
        ">*  Concluir si la clasificación fue buena o no"
      ],
      "metadata": {
        "id": "Pz153fnQEgeB"
      }
    },
    {
      "cell_type": "markdown",
      "source": [
        "> > Al analizar el dataset cargado, se observa que el puntaje \"score\" de validación es de 0.933, indica que el modelo ha obtenido un buen rendimiento general en los datos de validación. Dado que en cuanto más cercano esté el score a 1, mejor será el rendimiento.\n",
        "\n",
        "> > Respecto a la matriz de confusión, muestra que hay muy pocos errores en la clasificación, ya que la mayoría de los valores fuera de la diagonal principal son ceros, constándole un poco más la clasificación del grupo sisben D que clasificó a 4 en el grupo C cuando en realidad eran en el grupo D. Esto sugiere que el modelo ha logrado una clasificación precisa.\n",
        "\n",
        "> > En general, los resultados sugieren que el modelo de k vecinos ha realizado una buena clasificación del grupo de Sisben de las personas, con un alto nivel de precisión y pocos errores. Sin embargo, es importante tener en cuenta que se requiere un análisis más exhaustivo y considerar nuevos parámetros de entrada u observaciones para realizar predicciones de la clasificación del modelo."
      ],
      "metadata": {
        "id": "H7mcLgn7PFFM"
      }
    },
    {
      "cell_type": "markdown",
      "source": [
        "2.  \n",
        "     \n",
        ">*  Usando Socrata, Cargue un dataset que se encuentre en el portal de datos públicos\n",
        "de Colombia\n"
      ],
      "metadata": {
        "id": "U_3ISlU3f8zO"
      }
    },
    {
      "cell_type": "code",
      "source": [
        "# Se carga él dataset registro información contraloría de córdoba: https://www.datos.gov.co/Organismos-de-Control/Registro-Activo-de-Informaci-n/7era-c7uq\n",
        "client = Socrata('www.datos.gov.co', None)\n",
        "results = client.get('7era-c7uq')\n",
        "datosKmee = pd.DataFrame.from_records(results)\n",
        "datosKmee.head() # Se imprimen las primeras cinco filas del dataset."
      ],
      "metadata": {
        "colab": {
          "base_uri": "https://localhost:8080/",
          "height": 426
        },
        "id": "JtkPOcMY0xEW",
        "outputId": "df5a7cd1-95a0-40b9-dfaa-e61842dfbb59"
      },
      "execution_count": 18,
      "outputs": [
        {
          "output_type": "stream",
          "name": "stderr",
          "text": [
            "WARNING:root:Requests made without an app_token will be subject to strict throttling limits.\n"
          ]
        },
        {
          "output_type": "execute_result",
          "data": {
            "text/plain": [
              "  id                proceso        area_dependencia     activo_de_informacion  \\\n",
              "0  1  Responsabilida Fiscal  Responsabilidad Fiscal           Audiencias R.F.   \n",
              "1  2  Responsabilida Fiscal  Responsabilidad Fiscal   Expediente Proceso R.F.   \n",
              "2  3  Responsabilida Fiscal  Responsabilidad Fiscal   Procesos sancionatorios   \n",
              "3  4  Responsabilida Fiscal  Responsabilidad Fiscal      Juridiccion coactiva   \n",
              "4  5  Responsabilida Fiscal  Responsabilidad Fiscal  Notificaciones por aviso   \n",
              "\n",
              "  digital fisico                     ubicaci_n                 formato  \\\n",
              "0      Si     No          Equipo  backup video                     MPG   \n",
              "1      No     Si               Oficina de R.F.                impresos   \n",
              "2      Si     Si  Equipo Res_F/Oficina de R.F.  doc, pdf,xls, impresos   \n",
              "3      Si     Si  Equipo Res_F/Oficina de R.F.  doc, pdf,xls, impresos   \n",
              "4      Si     Si  Equipo Res_F/Oficina de R.F.  doc, pdf,xls, impresos   \n",
              "\n",
              "    idioma informacion_publicada_en misional clasificacion  \n",
              "0  Español                       No       Si     Reservada  \n",
              "1  Español                       No       Si     Reservada  \n",
              "2  Español                       No       Si     Reservada  \n",
              "3  Español                       No       Si     Reservada  \n",
              "4  Español                       Si       Si       Pública  "
            ],
            "text/html": [
              "\n",
              "  <div id=\"df-de4ed940-56b1-4d8a-a435-3239f60b9224\">\n",
              "    <div class=\"colab-df-container\">\n",
              "      <div>\n",
              "<style scoped>\n",
              "    .dataframe tbody tr th:only-of-type {\n",
              "        vertical-align: middle;\n",
              "    }\n",
              "\n",
              "    .dataframe tbody tr th {\n",
              "        vertical-align: top;\n",
              "    }\n",
              "\n",
              "    .dataframe thead th {\n",
              "        text-align: right;\n",
              "    }\n",
              "</style>\n",
              "<table border=\"1\" class=\"dataframe\">\n",
              "  <thead>\n",
              "    <tr style=\"text-align: right;\">\n",
              "      <th></th>\n",
              "      <th>id</th>\n",
              "      <th>proceso</th>\n",
              "      <th>area_dependencia</th>\n",
              "      <th>activo_de_informacion</th>\n",
              "      <th>digital</th>\n",
              "      <th>fisico</th>\n",
              "      <th>ubicaci_n</th>\n",
              "      <th>formato</th>\n",
              "      <th>idioma</th>\n",
              "      <th>informacion_publicada_en</th>\n",
              "      <th>misional</th>\n",
              "      <th>clasificacion</th>\n",
              "    </tr>\n",
              "  </thead>\n",
              "  <tbody>\n",
              "    <tr>\n",
              "      <th>0</th>\n",
              "      <td>1</td>\n",
              "      <td>Responsabilida Fiscal</td>\n",
              "      <td>Responsabilidad Fiscal</td>\n",
              "      <td>Audiencias R.F.</td>\n",
              "      <td>Si</td>\n",
              "      <td>No</td>\n",
              "      <td>Equipo  backup video</td>\n",
              "      <td>MPG</td>\n",
              "      <td>Español</td>\n",
              "      <td>No</td>\n",
              "      <td>Si</td>\n",
              "      <td>Reservada</td>\n",
              "    </tr>\n",
              "    <tr>\n",
              "      <th>1</th>\n",
              "      <td>2</td>\n",
              "      <td>Responsabilida Fiscal</td>\n",
              "      <td>Responsabilidad Fiscal</td>\n",
              "      <td>Expediente Proceso R.F.</td>\n",
              "      <td>No</td>\n",
              "      <td>Si</td>\n",
              "      <td>Oficina de R.F.</td>\n",
              "      <td>impresos</td>\n",
              "      <td>Español</td>\n",
              "      <td>No</td>\n",
              "      <td>Si</td>\n",
              "      <td>Reservada</td>\n",
              "    </tr>\n",
              "    <tr>\n",
              "      <th>2</th>\n",
              "      <td>3</td>\n",
              "      <td>Responsabilida Fiscal</td>\n",
              "      <td>Responsabilidad Fiscal</td>\n",
              "      <td>Procesos sancionatorios</td>\n",
              "      <td>Si</td>\n",
              "      <td>Si</td>\n",
              "      <td>Equipo Res_F/Oficina de R.F.</td>\n",
              "      <td>doc, pdf,xls, impresos</td>\n",
              "      <td>Español</td>\n",
              "      <td>No</td>\n",
              "      <td>Si</td>\n",
              "      <td>Reservada</td>\n",
              "    </tr>\n",
              "    <tr>\n",
              "      <th>3</th>\n",
              "      <td>4</td>\n",
              "      <td>Responsabilida Fiscal</td>\n",
              "      <td>Responsabilidad Fiscal</td>\n",
              "      <td>Juridiccion coactiva</td>\n",
              "      <td>Si</td>\n",
              "      <td>Si</td>\n",
              "      <td>Equipo Res_F/Oficina de R.F.</td>\n",
              "      <td>doc, pdf,xls, impresos</td>\n",
              "      <td>Español</td>\n",
              "      <td>No</td>\n",
              "      <td>Si</td>\n",
              "      <td>Reservada</td>\n",
              "    </tr>\n",
              "    <tr>\n",
              "      <th>4</th>\n",
              "      <td>5</td>\n",
              "      <td>Responsabilida Fiscal</td>\n",
              "      <td>Responsabilidad Fiscal</td>\n",
              "      <td>Notificaciones por aviso</td>\n",
              "      <td>Si</td>\n",
              "      <td>Si</td>\n",
              "      <td>Equipo Res_F/Oficina de R.F.</td>\n",
              "      <td>doc, pdf,xls, impresos</td>\n",
              "      <td>Español</td>\n",
              "      <td>Si</td>\n",
              "      <td>Si</td>\n",
              "      <td>Pública</td>\n",
              "    </tr>\n",
              "  </tbody>\n",
              "</table>\n",
              "</div>\n",
              "      <button class=\"colab-df-convert\" onclick=\"convertToInteractive('df-de4ed940-56b1-4d8a-a435-3239f60b9224')\"\n",
              "              title=\"Convert this dataframe to an interactive table.\"\n",
              "              style=\"display:none;\">\n",
              "        \n",
              "  <svg xmlns=\"http://www.w3.org/2000/svg\" height=\"24px\"viewBox=\"0 0 24 24\"\n",
              "       width=\"24px\">\n",
              "    <path d=\"M0 0h24v24H0V0z\" fill=\"none\"/>\n",
              "    <path d=\"M18.56 5.44l.94 2.06.94-2.06 2.06-.94-2.06-.94-.94-2.06-.94 2.06-2.06.94zm-11 1L8.5 8.5l.94-2.06 2.06-.94-2.06-.94L8.5 2.5l-.94 2.06-2.06.94zm10 10l.94 2.06.94-2.06 2.06-.94-2.06-.94-.94-2.06-.94 2.06-2.06.94z\"/><path d=\"M17.41 7.96l-1.37-1.37c-.4-.4-.92-.59-1.43-.59-.52 0-1.04.2-1.43.59L10.3 9.45l-7.72 7.72c-.78.78-.78 2.05 0 2.83L4 21.41c.39.39.9.59 1.41.59.51 0 1.02-.2 1.41-.59l7.78-7.78 2.81-2.81c.8-.78.8-2.07 0-2.86zM5.41 20L4 18.59l7.72-7.72 1.47 1.35L5.41 20z\"/>\n",
              "  </svg>\n",
              "      </button>\n",
              "      \n",
              "  <style>\n",
              "    .colab-df-container {\n",
              "      display:flex;\n",
              "      flex-wrap:wrap;\n",
              "      gap: 12px;\n",
              "    }\n",
              "\n",
              "    .colab-df-convert {\n",
              "      background-color: #E8F0FE;\n",
              "      border: none;\n",
              "      border-radius: 50%;\n",
              "      cursor: pointer;\n",
              "      display: none;\n",
              "      fill: #1967D2;\n",
              "      height: 32px;\n",
              "      padding: 0 0 0 0;\n",
              "      width: 32px;\n",
              "    }\n",
              "\n",
              "    .colab-df-convert:hover {\n",
              "      background-color: #E2EBFA;\n",
              "      box-shadow: 0px 1px 2px rgba(60, 64, 67, 0.3), 0px 1px 3px 1px rgba(60, 64, 67, 0.15);\n",
              "      fill: #174EA6;\n",
              "    }\n",
              "\n",
              "    [theme=dark] .colab-df-convert {\n",
              "      background-color: #3B4455;\n",
              "      fill: #D2E3FC;\n",
              "    }\n",
              "\n",
              "    [theme=dark] .colab-df-convert:hover {\n",
              "      background-color: #434B5C;\n",
              "      box-shadow: 0px 1px 3px 1px rgba(0, 0, 0, 0.15);\n",
              "      filter: drop-shadow(0px 1px 2px rgba(0, 0, 0, 0.3));\n",
              "      fill: #FFFFFF;\n",
              "    }\n",
              "  </style>\n",
              "\n",
              "      <script>\n",
              "        const buttonEl =\n",
              "          document.querySelector('#df-de4ed940-56b1-4d8a-a435-3239f60b9224 button.colab-df-convert');\n",
              "        buttonEl.style.display =\n",
              "          google.colab.kernel.accessAllowed ? 'block' : 'none';\n",
              "\n",
              "        async function convertToInteractive(key) {\n",
              "          const element = document.querySelector('#df-de4ed940-56b1-4d8a-a435-3239f60b9224');\n",
              "          const dataTable =\n",
              "            await google.colab.kernel.invokeFunction('convertToInteractive',\n",
              "                                                     [key], {});\n",
              "          if (!dataTable) return;\n",
              "\n",
              "          const docLinkHtml = 'Like what you see? Visit the ' +\n",
              "            '<a target=\"_blank\" href=https://colab.research.google.com/notebooks/data_table.ipynb>data table notebook</a>'\n",
              "            + ' to learn more about interactive tables.';\n",
              "          element.innerHTML = '';\n",
              "          dataTable['output_type'] = 'display_data';\n",
              "          await google.colab.output.renderOutput(dataTable, element);\n",
              "          const docLink = document.createElement('div');\n",
              "          docLink.innerHTML = docLinkHtml;\n",
              "          element.appendChild(docLink);\n",
              "        }\n",
              "      </script>\n",
              "    </div>\n",
              "  </div>\n",
              "  "
            ]
          },
          "metadata": {},
          "execution_count": 18
        }
      ]
    },
    {
      "cell_type": "markdown",
      "source": [
        ">*   Realice las tareas de limpieza necesarias"
      ],
      "metadata": {
        "id": "1A1PiYtrZ3v3"
      }
    },
    {
      "cell_type": "code",
      "source": [
        "datosKmee.info() # Información general del dataset."
      ],
      "metadata": {
        "colab": {
          "base_uri": "https://localhost:8080/"
        },
        "id": "Mj3A5lR94YX3",
        "outputId": "78d6ecd3-6c75-4572-9666-faf425bc94db"
      },
      "execution_count": 19,
      "outputs": [
        {
          "output_type": "stream",
          "name": "stdout",
          "text": [
            "<class 'pandas.core.frame.DataFrame'>\n",
            "RangeIndex: 51 entries, 0 to 50\n",
            "Data columns (total 12 columns):\n",
            " #   Column                    Non-Null Count  Dtype \n",
            "---  ------                    --------------  ----- \n",
            " 0   id                        51 non-null     object\n",
            " 1   proceso                   51 non-null     object\n",
            " 2   area_dependencia          51 non-null     object\n",
            " 3   activo_de_informacion     51 non-null     object\n",
            " 4   digital                   51 non-null     object\n",
            " 5   fisico                    51 non-null     object\n",
            " 6   ubicaci_n                 51 non-null     object\n",
            " 7   formato                   51 non-null     object\n",
            " 8   idioma                    51 non-null     object\n",
            " 9   informacion_publicada_en  51 non-null     object\n",
            " 10  misional                  51 non-null     object\n",
            " 11  clasificacion             51 non-null     object\n",
            "dtypes: object(12)\n",
            "memory usage: 4.9+ KB\n"
          ]
        }
      ]
    },
    {
      "cell_type": "code",
      "source": [
        "datosKmee.describe() # Información general del dataset."
      ],
      "metadata": {
        "colab": {
          "base_uri": "https://localhost:8080/",
          "height": 274
        },
        "id": "51iXKUPQTMmM",
        "outputId": "88b83b02-cb9c-4996-d35c-fd731b158616"
      },
      "execution_count": 20,
      "outputs": [
        {
          "output_type": "execute_result",
          "data": {
            "text/plain": [
              "        id                       proceso    area_dependencia  \\\n",
              "count   51                            51                  51   \n",
              "unique  51                             9                   6   \n",
              "top      1  Direccionamiento Estrategico  Secretaria General   \n",
              "freq     1                            10                  21   \n",
              "\n",
              "                      activo_de_informacion digital fisico  \\\n",
              "count                                    51      51     51   \n",
              "unique                                   50       2      2   \n",
              "top     Comunicaciones Enviadas y Recibidas      Si     Si   \n",
              "freq                                      2      40     47   \n",
              "\n",
              "                         ubicaci_n   formato   idioma  \\\n",
              "count                           51        51       51   \n",
              "unique                          18        16        1   \n",
              "top     Equipo Apolo/of. Sec. Gral  impresos  Español   \n",
              "freq                             6        11       51   \n",
              "\n",
              "       informacion_publicada_en misional clasificacion  \n",
              "count                        51       51            51  \n",
              "unique                        2        2             3  \n",
              "top                          Si       Si       Pública  \n",
              "freq                         32       30            33  "
            ],
            "text/html": [
              "\n",
              "  <div id=\"df-5fe6c9ee-d498-4857-8af5-49f899d85977\">\n",
              "    <div class=\"colab-df-container\">\n",
              "      <div>\n",
              "<style scoped>\n",
              "    .dataframe tbody tr th:only-of-type {\n",
              "        vertical-align: middle;\n",
              "    }\n",
              "\n",
              "    .dataframe tbody tr th {\n",
              "        vertical-align: top;\n",
              "    }\n",
              "\n",
              "    .dataframe thead th {\n",
              "        text-align: right;\n",
              "    }\n",
              "</style>\n",
              "<table border=\"1\" class=\"dataframe\">\n",
              "  <thead>\n",
              "    <tr style=\"text-align: right;\">\n",
              "      <th></th>\n",
              "      <th>id</th>\n",
              "      <th>proceso</th>\n",
              "      <th>area_dependencia</th>\n",
              "      <th>activo_de_informacion</th>\n",
              "      <th>digital</th>\n",
              "      <th>fisico</th>\n",
              "      <th>ubicaci_n</th>\n",
              "      <th>formato</th>\n",
              "      <th>idioma</th>\n",
              "      <th>informacion_publicada_en</th>\n",
              "      <th>misional</th>\n",
              "      <th>clasificacion</th>\n",
              "    </tr>\n",
              "  </thead>\n",
              "  <tbody>\n",
              "    <tr>\n",
              "      <th>count</th>\n",
              "      <td>51</td>\n",
              "      <td>51</td>\n",
              "      <td>51</td>\n",
              "      <td>51</td>\n",
              "      <td>51</td>\n",
              "      <td>51</td>\n",
              "      <td>51</td>\n",
              "      <td>51</td>\n",
              "      <td>51</td>\n",
              "      <td>51</td>\n",
              "      <td>51</td>\n",
              "      <td>51</td>\n",
              "    </tr>\n",
              "    <tr>\n",
              "      <th>unique</th>\n",
              "      <td>51</td>\n",
              "      <td>9</td>\n",
              "      <td>6</td>\n",
              "      <td>50</td>\n",
              "      <td>2</td>\n",
              "      <td>2</td>\n",
              "      <td>18</td>\n",
              "      <td>16</td>\n",
              "      <td>1</td>\n",
              "      <td>2</td>\n",
              "      <td>2</td>\n",
              "      <td>3</td>\n",
              "    </tr>\n",
              "    <tr>\n",
              "      <th>top</th>\n",
              "      <td>1</td>\n",
              "      <td>Direccionamiento Estrategico</td>\n",
              "      <td>Secretaria General</td>\n",
              "      <td>Comunicaciones Enviadas y Recibidas</td>\n",
              "      <td>Si</td>\n",
              "      <td>Si</td>\n",
              "      <td>Equipo Apolo/of. Sec. Gral</td>\n",
              "      <td>impresos</td>\n",
              "      <td>Español</td>\n",
              "      <td>Si</td>\n",
              "      <td>Si</td>\n",
              "      <td>Pública</td>\n",
              "    </tr>\n",
              "    <tr>\n",
              "      <th>freq</th>\n",
              "      <td>1</td>\n",
              "      <td>10</td>\n",
              "      <td>21</td>\n",
              "      <td>2</td>\n",
              "      <td>40</td>\n",
              "      <td>47</td>\n",
              "      <td>6</td>\n",
              "      <td>11</td>\n",
              "      <td>51</td>\n",
              "      <td>32</td>\n",
              "      <td>30</td>\n",
              "      <td>33</td>\n",
              "    </tr>\n",
              "  </tbody>\n",
              "</table>\n",
              "</div>\n",
              "      <button class=\"colab-df-convert\" onclick=\"convertToInteractive('df-5fe6c9ee-d498-4857-8af5-49f899d85977')\"\n",
              "              title=\"Convert this dataframe to an interactive table.\"\n",
              "              style=\"display:none;\">\n",
              "        \n",
              "  <svg xmlns=\"http://www.w3.org/2000/svg\" height=\"24px\"viewBox=\"0 0 24 24\"\n",
              "       width=\"24px\">\n",
              "    <path d=\"M0 0h24v24H0V0z\" fill=\"none\"/>\n",
              "    <path d=\"M18.56 5.44l.94 2.06.94-2.06 2.06-.94-2.06-.94-.94-2.06-.94 2.06-2.06.94zm-11 1L8.5 8.5l.94-2.06 2.06-.94-2.06-.94L8.5 2.5l-.94 2.06-2.06.94zm10 10l.94 2.06.94-2.06 2.06-.94-2.06-.94-.94-2.06-.94 2.06-2.06.94z\"/><path d=\"M17.41 7.96l-1.37-1.37c-.4-.4-.92-.59-1.43-.59-.52 0-1.04.2-1.43.59L10.3 9.45l-7.72 7.72c-.78.78-.78 2.05 0 2.83L4 21.41c.39.39.9.59 1.41.59.51 0 1.02-.2 1.41-.59l7.78-7.78 2.81-2.81c.8-.78.8-2.07 0-2.86zM5.41 20L4 18.59l7.72-7.72 1.47 1.35L5.41 20z\"/>\n",
              "  </svg>\n",
              "      </button>\n",
              "      \n",
              "  <style>\n",
              "    .colab-df-container {\n",
              "      display:flex;\n",
              "      flex-wrap:wrap;\n",
              "      gap: 12px;\n",
              "    }\n",
              "\n",
              "    .colab-df-convert {\n",
              "      background-color: #E8F0FE;\n",
              "      border: none;\n",
              "      border-radius: 50%;\n",
              "      cursor: pointer;\n",
              "      display: none;\n",
              "      fill: #1967D2;\n",
              "      height: 32px;\n",
              "      padding: 0 0 0 0;\n",
              "      width: 32px;\n",
              "    }\n",
              "\n",
              "    .colab-df-convert:hover {\n",
              "      background-color: #E2EBFA;\n",
              "      box-shadow: 0px 1px 2px rgba(60, 64, 67, 0.3), 0px 1px 3px 1px rgba(60, 64, 67, 0.15);\n",
              "      fill: #174EA6;\n",
              "    }\n",
              "\n",
              "    [theme=dark] .colab-df-convert {\n",
              "      background-color: #3B4455;\n",
              "      fill: #D2E3FC;\n",
              "    }\n",
              "\n",
              "    [theme=dark] .colab-df-convert:hover {\n",
              "      background-color: #434B5C;\n",
              "      box-shadow: 0px 1px 3px 1px rgba(0, 0, 0, 0.15);\n",
              "      filter: drop-shadow(0px 1px 2px rgba(0, 0, 0, 0.3));\n",
              "      fill: #FFFFFF;\n",
              "    }\n",
              "  </style>\n",
              "\n",
              "      <script>\n",
              "        const buttonEl =\n",
              "          document.querySelector('#df-5fe6c9ee-d498-4857-8af5-49f899d85977 button.colab-df-convert');\n",
              "        buttonEl.style.display =\n",
              "          google.colab.kernel.accessAllowed ? 'block' : 'none';\n",
              "\n",
              "        async function convertToInteractive(key) {\n",
              "          const element = document.querySelector('#df-5fe6c9ee-d498-4857-8af5-49f899d85977');\n",
              "          const dataTable =\n",
              "            await google.colab.kernel.invokeFunction('convertToInteractive',\n",
              "                                                     [key], {});\n",
              "          if (!dataTable) return;\n",
              "\n",
              "          const docLinkHtml = 'Like what you see? Visit the ' +\n",
              "            '<a target=\"_blank\" href=https://colab.research.google.com/notebooks/data_table.ipynb>data table notebook</a>'\n",
              "            + ' to learn more about interactive tables.';\n",
              "          element.innerHTML = '';\n",
              "          dataTable['output_type'] = 'display_data';\n",
              "          await google.colab.output.renderOutput(dataTable, element);\n",
              "          const docLink = document.createElement('div');\n",
              "          docLink.innerHTML = docLinkHtml;\n",
              "          element.appendChild(docLink);\n",
              "        }\n",
              "      </script>\n",
              "    </div>\n",
              "  </div>\n",
              "  "
            ]
          },
          "metadata": {},
          "execution_count": 20
        }
      ]
    },
    {
      "cell_type": "code",
      "source": [
        "# Se realiza la limpieza y las transformaciones necesarias al dataset.\n",
        "# Utiliza el label_encoder para asignar un valor numérico a las variables \"proceso\", \"area_dependencia\", \"ubicaci_n\", \"formato\" y \"misional\".\n",
        "datosKmE=pd.DataFrame(datosKmee['id'].astype(int)) # Se construye el dataframe para hacer la agrupación por grupo de misional.\n",
        "def label_encoder(datos_categoria):\n",
        "    le = LabelEncoder()\n",
        "    datosKmE[datos_categoria]= le.fit_transform(datosKmee[datos_categoria])\n",
        "\n",
        "variables = ['proceso','area_dependencia','ubicaci_n','formato','misional']\n",
        "\n",
        "for l in variables:\n",
        "    label_encoder(l)\n",
        "\n",
        "# Se cambia el índice del dataframe construido anteriormente.\n",
        "datosKmE=datosKmE.set_index('id')"
      ],
      "metadata": {
        "id": "2n_wAozA4fww"
      },
      "execution_count": 21,
      "outputs": []
    },
    {
      "cell_type": "code",
      "source": [
        "# Se verifica que las variables se cambiaron a valores numéricos.\n",
        "datosKmE.head()"
      ],
      "metadata": {
        "colab": {
          "base_uri": "https://localhost:8080/",
          "height": 238
        },
        "id": "87Cya-CncSqd",
        "outputId": "6d56b00d-bc2d-45d7-a386-ce6e21593261"
      },
      "execution_count": 22,
      "outputs": [
        {
          "output_type": "execute_result",
          "data": {
            "text/plain": [
              "    proceso  area_dependencia  ubicaci_n  formato  misional\n",
              "id                                                         \n",
              "1         8                 2          4        4         1\n",
              "2         8                 2         14       11         1\n",
              "3         8                 2          7        7         1\n",
              "4         8                 2          7        7         1\n",
              "5         8                 2          7        7         1"
            ],
            "text/html": [
              "\n",
              "  <div id=\"df-df251240-3439-4a9e-8b78-1734059a3bf3\">\n",
              "    <div class=\"colab-df-container\">\n",
              "      <div>\n",
              "<style scoped>\n",
              "    .dataframe tbody tr th:only-of-type {\n",
              "        vertical-align: middle;\n",
              "    }\n",
              "\n",
              "    .dataframe tbody tr th {\n",
              "        vertical-align: top;\n",
              "    }\n",
              "\n",
              "    .dataframe thead th {\n",
              "        text-align: right;\n",
              "    }\n",
              "</style>\n",
              "<table border=\"1\" class=\"dataframe\">\n",
              "  <thead>\n",
              "    <tr style=\"text-align: right;\">\n",
              "      <th></th>\n",
              "      <th>proceso</th>\n",
              "      <th>area_dependencia</th>\n",
              "      <th>ubicaci_n</th>\n",
              "      <th>formato</th>\n",
              "      <th>misional</th>\n",
              "    </tr>\n",
              "    <tr>\n",
              "      <th>id</th>\n",
              "      <th></th>\n",
              "      <th></th>\n",
              "      <th></th>\n",
              "      <th></th>\n",
              "      <th></th>\n",
              "    </tr>\n",
              "  </thead>\n",
              "  <tbody>\n",
              "    <tr>\n",
              "      <th>1</th>\n",
              "      <td>8</td>\n",
              "      <td>2</td>\n",
              "      <td>4</td>\n",
              "      <td>4</td>\n",
              "      <td>1</td>\n",
              "    </tr>\n",
              "    <tr>\n",
              "      <th>2</th>\n",
              "      <td>8</td>\n",
              "      <td>2</td>\n",
              "      <td>14</td>\n",
              "      <td>11</td>\n",
              "      <td>1</td>\n",
              "    </tr>\n",
              "    <tr>\n",
              "      <th>3</th>\n",
              "      <td>8</td>\n",
              "      <td>2</td>\n",
              "      <td>7</td>\n",
              "      <td>7</td>\n",
              "      <td>1</td>\n",
              "    </tr>\n",
              "    <tr>\n",
              "      <th>4</th>\n",
              "      <td>8</td>\n",
              "      <td>2</td>\n",
              "      <td>7</td>\n",
              "      <td>7</td>\n",
              "      <td>1</td>\n",
              "    </tr>\n",
              "    <tr>\n",
              "      <th>5</th>\n",
              "      <td>8</td>\n",
              "      <td>2</td>\n",
              "      <td>7</td>\n",
              "      <td>7</td>\n",
              "      <td>1</td>\n",
              "    </tr>\n",
              "  </tbody>\n",
              "</table>\n",
              "</div>\n",
              "      <button class=\"colab-df-convert\" onclick=\"convertToInteractive('df-df251240-3439-4a9e-8b78-1734059a3bf3')\"\n",
              "              title=\"Convert this dataframe to an interactive table.\"\n",
              "              style=\"display:none;\">\n",
              "        \n",
              "  <svg xmlns=\"http://www.w3.org/2000/svg\" height=\"24px\"viewBox=\"0 0 24 24\"\n",
              "       width=\"24px\">\n",
              "    <path d=\"M0 0h24v24H0V0z\" fill=\"none\"/>\n",
              "    <path d=\"M18.56 5.44l.94 2.06.94-2.06 2.06-.94-2.06-.94-.94-2.06-.94 2.06-2.06.94zm-11 1L8.5 8.5l.94-2.06 2.06-.94-2.06-.94L8.5 2.5l-.94 2.06-2.06.94zm10 10l.94 2.06.94-2.06 2.06-.94-2.06-.94-.94-2.06-.94 2.06-2.06.94z\"/><path d=\"M17.41 7.96l-1.37-1.37c-.4-.4-.92-.59-1.43-.59-.52 0-1.04.2-1.43.59L10.3 9.45l-7.72 7.72c-.78.78-.78 2.05 0 2.83L4 21.41c.39.39.9.59 1.41.59.51 0 1.02-.2 1.41-.59l7.78-7.78 2.81-2.81c.8-.78.8-2.07 0-2.86zM5.41 20L4 18.59l7.72-7.72 1.47 1.35L5.41 20z\"/>\n",
              "  </svg>\n",
              "      </button>\n",
              "      \n",
              "  <style>\n",
              "    .colab-df-container {\n",
              "      display:flex;\n",
              "      flex-wrap:wrap;\n",
              "      gap: 12px;\n",
              "    }\n",
              "\n",
              "    .colab-df-convert {\n",
              "      background-color: #E8F0FE;\n",
              "      border: none;\n",
              "      border-radius: 50%;\n",
              "      cursor: pointer;\n",
              "      display: none;\n",
              "      fill: #1967D2;\n",
              "      height: 32px;\n",
              "      padding: 0 0 0 0;\n",
              "      width: 32px;\n",
              "    }\n",
              "\n",
              "    .colab-df-convert:hover {\n",
              "      background-color: #E2EBFA;\n",
              "      box-shadow: 0px 1px 2px rgba(60, 64, 67, 0.3), 0px 1px 3px 1px rgba(60, 64, 67, 0.15);\n",
              "      fill: #174EA6;\n",
              "    }\n",
              "\n",
              "    [theme=dark] .colab-df-convert {\n",
              "      background-color: #3B4455;\n",
              "      fill: #D2E3FC;\n",
              "    }\n",
              "\n",
              "    [theme=dark] .colab-df-convert:hover {\n",
              "      background-color: #434B5C;\n",
              "      box-shadow: 0px 1px 3px 1px rgba(0, 0, 0, 0.15);\n",
              "      filter: drop-shadow(0px 1px 2px rgba(0, 0, 0, 0.3));\n",
              "      fill: #FFFFFF;\n",
              "    }\n",
              "  </style>\n",
              "\n",
              "      <script>\n",
              "        const buttonEl =\n",
              "          document.querySelector('#df-df251240-3439-4a9e-8b78-1734059a3bf3 button.colab-df-convert');\n",
              "        buttonEl.style.display =\n",
              "          google.colab.kernel.accessAllowed ? 'block' : 'none';\n",
              "\n",
              "        async function convertToInteractive(key) {\n",
              "          const element = document.querySelector('#df-df251240-3439-4a9e-8b78-1734059a3bf3');\n",
              "          const dataTable =\n",
              "            await google.colab.kernel.invokeFunction('convertToInteractive',\n",
              "                                                     [key], {});\n",
              "          if (!dataTable) return;\n",
              "\n",
              "          const docLinkHtml = 'Like what you see? Visit the ' +\n",
              "            '<a target=\"_blank\" href=https://colab.research.google.com/notebooks/data_table.ipynb>data table notebook</a>'\n",
              "            + ' to learn more about interactive tables.';\n",
              "          element.innerHTML = '';\n",
              "          dataTable['output_type'] = 'display_data';\n",
              "          await google.colab.output.renderOutput(dataTable, element);\n",
              "          const docLink = document.createElement('div');\n",
              "          docLink.innerHTML = docLinkHtml;\n",
              "          element.appendChild(docLink);\n",
              "        }\n",
              "      </script>\n",
              "    </div>\n",
              "  </div>\n",
              "  "
            ]
          },
          "metadata": {},
          "execution_count": 22
        }
      ]
    },
    {
      "cell_type": "code",
      "source": [
        "# Se separan las variables predictoras de la variable objetivo, a las predictoras se les llamará xContraCordoba y a las predictoras yContraCordoba.\n",
        "yContraCordoba = datosKmE[\"misional\"]\n",
        "xContraCordoba = datosKmE.drop(\"misional\",axis=1)\n"
      ],
      "metadata": {
        "id": "u_l-LabqFmvm"
      },
      "execution_count": 23,
      "outputs": []
    },
    {
      "cell_type": "code",
      "source": [
        "# Se verifica que se haya hecho la separación.\n",
        "print(xContraCordoba.head()) # Se imprimen las primeras cinco filas del dataset.\n",
        "print('----------------------------------------')\n",
        "print(yContraCordoba.head()) # Se imprimen las primeras cinco filas del dataset."
      ],
      "metadata": {
        "colab": {
          "base_uri": "https://localhost:8080/"
        },
        "id": "sMyQyz1jG84h",
        "outputId": "c5a001f2-45c6-4854-f694-dbedd0d8301b"
      },
      "execution_count": 24,
      "outputs": [
        {
          "output_type": "stream",
          "name": "stdout",
          "text": [
            "    proceso  area_dependencia  ubicaci_n  formato\n",
            "id                                               \n",
            "1         8                 2          4        4\n",
            "2         8                 2         14       11\n",
            "3         8                 2          7        7\n",
            "4         8                 2          7        7\n",
            "5         8                 2          7        7\n",
            "----------------------------------------\n",
            "id\n",
            "1    1\n",
            "2    1\n",
            "3    1\n",
            "4    1\n",
            "5    1\n",
            "Name: misional, dtype: int64\n"
          ]
        }
      ]
    },
    {
      "cell_type": "markdown",
      "source": [
        ">*   Aplicar el algoritmo de agrupamiento de las K medias"
      ],
      "metadata": {
        "id": "q6gnlmQn_TzU"
      }
    },
    {
      "cell_type": "code",
      "source": [
        "# Se cargarán las librerías requeridas, en este caso una funcionalidad que hacen parte de submódulos de sklearn y una librería para poder desarrollar gráficas en 3D.\n",
        "from sklearn.cluster import KMeans # Se encargada de hacer la agrupación.\n",
        "from mpl_toolkits.mplot3d import Axes3D # Gráficas en 3D"
      ],
      "metadata": {
        "id": "hWN0JomdMuNq"
      },
      "execution_count": 25,
      "outputs": []
    },
    {
      "cell_type": "code",
      "source": [
        "# Se busca cuál es el mejor valor de grupos a definir.\n",
        "inercias=[]\n",
        "for i in range(1,len(xContraCordoba+1)):\n",
        "  Kmeans=KMeans(n_clusters=i,max_iter=300)\n",
        "  Kmeans.fit(xContraCordoba)\n",
        "  inercias.append(Kmeans.inertia_)"
      ],
      "metadata": {
        "id": "eR9vTvGJOzAz",
        "colab": {
          "base_uri": "https://localhost:8080/"
        },
        "outputId": "4040257c-f594-4d92-ec5d-56f9f6dddf5f"
      },
      "execution_count": 26,
      "outputs": [
        {
          "output_type": "stream",
          "name": "stderr",
          "text": [
            "/usr/local/lib/python3.10/dist-packages/sklearn/cluster/_kmeans.py:870: FutureWarning: The default value of `n_init` will change from 10 to 'auto' in 1.4. Set the value of `n_init` explicitly to suppress the warning\n",
            "  warnings.warn(\n",
            "/usr/local/lib/python3.10/dist-packages/sklearn/cluster/_kmeans.py:870: FutureWarning: The default value of `n_init` will change from 10 to 'auto' in 1.4. Set the value of `n_init` explicitly to suppress the warning\n",
            "  warnings.warn(\n",
            "/usr/local/lib/python3.10/dist-packages/sklearn/cluster/_kmeans.py:870: FutureWarning: The default value of `n_init` will change from 10 to 'auto' in 1.4. Set the value of `n_init` explicitly to suppress the warning\n",
            "  warnings.warn(\n",
            "/usr/local/lib/python3.10/dist-packages/sklearn/cluster/_kmeans.py:870: FutureWarning: The default value of `n_init` will change from 10 to 'auto' in 1.4. Set the value of `n_init` explicitly to suppress the warning\n",
            "  warnings.warn(\n",
            "/usr/local/lib/python3.10/dist-packages/sklearn/cluster/_kmeans.py:870: FutureWarning: The default value of `n_init` will change from 10 to 'auto' in 1.4. Set the value of `n_init` explicitly to suppress the warning\n",
            "  warnings.warn(\n",
            "/usr/local/lib/python3.10/dist-packages/sklearn/cluster/_kmeans.py:870: FutureWarning: The default value of `n_init` will change from 10 to 'auto' in 1.4. Set the value of `n_init` explicitly to suppress the warning\n",
            "  warnings.warn(\n",
            "/usr/local/lib/python3.10/dist-packages/sklearn/cluster/_kmeans.py:870: FutureWarning: The default value of `n_init` will change from 10 to 'auto' in 1.4. Set the value of `n_init` explicitly to suppress the warning\n",
            "  warnings.warn(\n",
            "/usr/local/lib/python3.10/dist-packages/sklearn/cluster/_kmeans.py:870: FutureWarning: The default value of `n_init` will change from 10 to 'auto' in 1.4. Set the value of `n_init` explicitly to suppress the warning\n",
            "  warnings.warn(\n",
            "/usr/local/lib/python3.10/dist-packages/sklearn/cluster/_kmeans.py:870: FutureWarning: The default value of `n_init` will change from 10 to 'auto' in 1.4. Set the value of `n_init` explicitly to suppress the warning\n",
            "  warnings.warn(\n",
            "/usr/local/lib/python3.10/dist-packages/sklearn/cluster/_kmeans.py:870: FutureWarning: The default value of `n_init` will change from 10 to 'auto' in 1.4. Set the value of `n_init` explicitly to suppress the warning\n",
            "  warnings.warn(\n",
            "/usr/local/lib/python3.10/dist-packages/sklearn/cluster/_kmeans.py:870: FutureWarning: The default value of `n_init` will change from 10 to 'auto' in 1.4. Set the value of `n_init` explicitly to suppress the warning\n",
            "  warnings.warn(\n",
            "/usr/local/lib/python3.10/dist-packages/sklearn/cluster/_kmeans.py:870: FutureWarning: The default value of `n_init` will change from 10 to 'auto' in 1.4. Set the value of `n_init` explicitly to suppress the warning\n",
            "  warnings.warn(\n",
            "/usr/local/lib/python3.10/dist-packages/sklearn/cluster/_kmeans.py:870: FutureWarning: The default value of `n_init` will change from 10 to 'auto' in 1.4. Set the value of `n_init` explicitly to suppress the warning\n",
            "  warnings.warn(\n",
            "/usr/local/lib/python3.10/dist-packages/sklearn/cluster/_kmeans.py:870: FutureWarning: The default value of `n_init` will change from 10 to 'auto' in 1.4. Set the value of `n_init` explicitly to suppress the warning\n",
            "  warnings.warn(\n",
            "/usr/local/lib/python3.10/dist-packages/sklearn/cluster/_kmeans.py:870: FutureWarning: The default value of `n_init` will change from 10 to 'auto' in 1.4. Set the value of `n_init` explicitly to suppress the warning\n",
            "  warnings.warn(\n",
            "/usr/local/lib/python3.10/dist-packages/sklearn/cluster/_kmeans.py:870: FutureWarning: The default value of `n_init` will change from 10 to 'auto' in 1.4. Set the value of `n_init` explicitly to suppress the warning\n",
            "  warnings.warn(\n",
            "/usr/local/lib/python3.10/dist-packages/sklearn/cluster/_kmeans.py:870: FutureWarning: The default value of `n_init` will change from 10 to 'auto' in 1.4. Set the value of `n_init` explicitly to suppress the warning\n",
            "  warnings.warn(\n",
            "/usr/local/lib/python3.10/dist-packages/sklearn/cluster/_kmeans.py:870: FutureWarning: The default value of `n_init` will change from 10 to 'auto' in 1.4. Set the value of `n_init` explicitly to suppress the warning\n",
            "  warnings.warn(\n",
            "/usr/local/lib/python3.10/dist-packages/sklearn/cluster/_kmeans.py:870: FutureWarning: The default value of `n_init` will change from 10 to 'auto' in 1.4. Set the value of `n_init` explicitly to suppress the warning\n",
            "  warnings.warn(\n",
            "/usr/local/lib/python3.10/dist-packages/sklearn/cluster/_kmeans.py:870: FutureWarning: The default value of `n_init` will change from 10 to 'auto' in 1.4. Set the value of `n_init` explicitly to suppress the warning\n",
            "  warnings.warn(\n",
            "/usr/local/lib/python3.10/dist-packages/sklearn/cluster/_kmeans.py:870: FutureWarning: The default value of `n_init` will change from 10 to 'auto' in 1.4. Set the value of `n_init` explicitly to suppress the warning\n",
            "  warnings.warn(\n",
            "/usr/local/lib/python3.10/dist-packages/sklearn/cluster/_kmeans.py:870: FutureWarning: The default value of `n_init` will change from 10 to 'auto' in 1.4. Set the value of `n_init` explicitly to suppress the warning\n",
            "  warnings.warn(\n",
            "/usr/local/lib/python3.10/dist-packages/sklearn/cluster/_kmeans.py:870: FutureWarning: The default value of `n_init` will change from 10 to 'auto' in 1.4. Set the value of `n_init` explicitly to suppress the warning\n",
            "  warnings.warn(\n",
            "/usr/local/lib/python3.10/dist-packages/sklearn/cluster/_kmeans.py:870: FutureWarning: The default value of `n_init` will change from 10 to 'auto' in 1.4. Set the value of `n_init` explicitly to suppress the warning\n",
            "  warnings.warn(\n",
            "/usr/local/lib/python3.10/dist-packages/sklearn/cluster/_kmeans.py:870: FutureWarning: The default value of `n_init` will change from 10 to 'auto' in 1.4. Set the value of `n_init` explicitly to suppress the warning\n",
            "  warnings.warn(\n",
            "/usr/local/lib/python3.10/dist-packages/sklearn/cluster/_kmeans.py:870: FutureWarning: The default value of `n_init` will change from 10 to 'auto' in 1.4. Set the value of `n_init` explicitly to suppress the warning\n",
            "  warnings.warn(\n",
            "/usr/local/lib/python3.10/dist-packages/sklearn/cluster/_kmeans.py:870: FutureWarning: The default value of `n_init` will change from 10 to 'auto' in 1.4. Set the value of `n_init` explicitly to suppress the warning\n",
            "  warnings.warn(\n",
            "<ipython-input-26-c16e420258f7>:5: ConvergenceWarning: Number of distinct clusters (26) found smaller than n_clusters (27). Possibly due to duplicate points in X.\n",
            "  Kmeans.fit(xContraCordoba)\n",
            "/usr/local/lib/python3.10/dist-packages/sklearn/cluster/_kmeans.py:870: FutureWarning: The default value of `n_init` will change from 10 to 'auto' in 1.4. Set the value of `n_init` explicitly to suppress the warning\n",
            "  warnings.warn(\n",
            "<ipython-input-26-c16e420258f7>:5: ConvergenceWarning: Number of distinct clusters (26) found smaller than n_clusters (28). Possibly due to duplicate points in X.\n",
            "  Kmeans.fit(xContraCordoba)\n",
            "/usr/local/lib/python3.10/dist-packages/sklearn/cluster/_kmeans.py:870: FutureWarning: The default value of `n_init` will change from 10 to 'auto' in 1.4. Set the value of `n_init` explicitly to suppress the warning\n",
            "  warnings.warn(\n",
            "<ipython-input-26-c16e420258f7>:5: ConvergenceWarning: Number of distinct clusters (26) found smaller than n_clusters (29). Possibly due to duplicate points in X.\n",
            "  Kmeans.fit(xContraCordoba)\n",
            "/usr/local/lib/python3.10/dist-packages/sklearn/cluster/_kmeans.py:870: FutureWarning: The default value of `n_init` will change from 10 to 'auto' in 1.4. Set the value of `n_init` explicitly to suppress the warning\n",
            "  warnings.warn(\n",
            "<ipython-input-26-c16e420258f7>:5: ConvergenceWarning: Number of distinct clusters (26) found smaller than n_clusters (30). Possibly due to duplicate points in X.\n",
            "  Kmeans.fit(xContraCordoba)\n",
            "/usr/local/lib/python3.10/dist-packages/sklearn/cluster/_kmeans.py:870: FutureWarning: The default value of `n_init` will change from 10 to 'auto' in 1.4. Set the value of `n_init` explicitly to suppress the warning\n",
            "  warnings.warn(\n",
            "<ipython-input-26-c16e420258f7>:5: ConvergenceWarning: Number of distinct clusters (26) found smaller than n_clusters (31). Possibly due to duplicate points in X.\n",
            "  Kmeans.fit(xContraCordoba)\n",
            "/usr/local/lib/python3.10/dist-packages/sklearn/cluster/_kmeans.py:870: FutureWarning: The default value of `n_init` will change from 10 to 'auto' in 1.4. Set the value of `n_init` explicitly to suppress the warning\n",
            "  warnings.warn(\n",
            "<ipython-input-26-c16e420258f7>:5: ConvergenceWarning: Number of distinct clusters (26) found smaller than n_clusters (32). Possibly due to duplicate points in X.\n",
            "  Kmeans.fit(xContraCordoba)\n",
            "/usr/local/lib/python3.10/dist-packages/sklearn/cluster/_kmeans.py:870: FutureWarning: The default value of `n_init` will change from 10 to 'auto' in 1.4. Set the value of `n_init` explicitly to suppress the warning\n",
            "  warnings.warn(\n",
            "<ipython-input-26-c16e420258f7>:5: ConvergenceWarning: Number of distinct clusters (26) found smaller than n_clusters (33). Possibly due to duplicate points in X.\n",
            "  Kmeans.fit(xContraCordoba)\n",
            "/usr/local/lib/python3.10/dist-packages/sklearn/cluster/_kmeans.py:870: FutureWarning: The default value of `n_init` will change from 10 to 'auto' in 1.4. Set the value of `n_init` explicitly to suppress the warning\n",
            "  warnings.warn(\n",
            "<ipython-input-26-c16e420258f7>:5: ConvergenceWarning: Number of distinct clusters (26) found smaller than n_clusters (34). Possibly due to duplicate points in X.\n",
            "  Kmeans.fit(xContraCordoba)\n",
            "/usr/local/lib/python3.10/dist-packages/sklearn/cluster/_kmeans.py:870: FutureWarning: The default value of `n_init` will change from 10 to 'auto' in 1.4. Set the value of `n_init` explicitly to suppress the warning\n",
            "  warnings.warn(\n",
            "<ipython-input-26-c16e420258f7>:5: ConvergenceWarning: Number of distinct clusters (26) found smaller than n_clusters (35). Possibly due to duplicate points in X.\n",
            "  Kmeans.fit(xContraCordoba)\n",
            "/usr/local/lib/python3.10/dist-packages/sklearn/cluster/_kmeans.py:870: FutureWarning: The default value of `n_init` will change from 10 to 'auto' in 1.4. Set the value of `n_init` explicitly to suppress the warning\n",
            "  warnings.warn(\n",
            "<ipython-input-26-c16e420258f7>:5: ConvergenceWarning: Number of distinct clusters (26) found smaller than n_clusters (36). Possibly due to duplicate points in X.\n",
            "  Kmeans.fit(xContraCordoba)\n",
            "/usr/local/lib/python3.10/dist-packages/sklearn/cluster/_kmeans.py:870: FutureWarning: The default value of `n_init` will change from 10 to 'auto' in 1.4. Set the value of `n_init` explicitly to suppress the warning\n",
            "  warnings.warn(\n",
            "<ipython-input-26-c16e420258f7>:5: ConvergenceWarning: Number of distinct clusters (26) found smaller than n_clusters (37). Possibly due to duplicate points in X.\n",
            "  Kmeans.fit(xContraCordoba)\n",
            "/usr/local/lib/python3.10/dist-packages/sklearn/cluster/_kmeans.py:870: FutureWarning: The default value of `n_init` will change from 10 to 'auto' in 1.4. Set the value of `n_init` explicitly to suppress the warning\n",
            "  warnings.warn(\n",
            "<ipython-input-26-c16e420258f7>:5: ConvergenceWarning: Number of distinct clusters (26) found smaller than n_clusters (38). Possibly due to duplicate points in X.\n",
            "  Kmeans.fit(xContraCordoba)\n",
            "/usr/local/lib/python3.10/dist-packages/sklearn/cluster/_kmeans.py:870: FutureWarning: The default value of `n_init` will change from 10 to 'auto' in 1.4. Set the value of `n_init` explicitly to suppress the warning\n",
            "  warnings.warn(\n",
            "<ipython-input-26-c16e420258f7>:5: ConvergenceWarning: Number of distinct clusters (26) found smaller than n_clusters (39). Possibly due to duplicate points in X.\n",
            "  Kmeans.fit(xContraCordoba)\n",
            "/usr/local/lib/python3.10/dist-packages/sklearn/cluster/_kmeans.py:870: FutureWarning: The default value of `n_init` will change from 10 to 'auto' in 1.4. Set the value of `n_init` explicitly to suppress the warning\n",
            "  warnings.warn(\n",
            "<ipython-input-26-c16e420258f7>:5: ConvergenceWarning: Number of distinct clusters (26) found smaller than n_clusters (40). Possibly due to duplicate points in X.\n",
            "  Kmeans.fit(xContraCordoba)\n",
            "/usr/local/lib/python3.10/dist-packages/sklearn/cluster/_kmeans.py:870: FutureWarning: The default value of `n_init` will change from 10 to 'auto' in 1.4. Set the value of `n_init` explicitly to suppress the warning\n",
            "  warnings.warn(\n",
            "<ipython-input-26-c16e420258f7>:5: ConvergenceWarning: Number of distinct clusters (26) found smaller than n_clusters (41). Possibly due to duplicate points in X.\n",
            "  Kmeans.fit(xContraCordoba)\n",
            "/usr/local/lib/python3.10/dist-packages/sklearn/cluster/_kmeans.py:870: FutureWarning: The default value of `n_init` will change from 10 to 'auto' in 1.4. Set the value of `n_init` explicitly to suppress the warning\n",
            "  warnings.warn(\n",
            "<ipython-input-26-c16e420258f7>:5: ConvergenceWarning: Number of distinct clusters (26) found smaller than n_clusters (42). Possibly due to duplicate points in X.\n",
            "  Kmeans.fit(xContraCordoba)\n",
            "/usr/local/lib/python3.10/dist-packages/sklearn/cluster/_kmeans.py:870: FutureWarning: The default value of `n_init` will change from 10 to 'auto' in 1.4. Set the value of `n_init` explicitly to suppress the warning\n",
            "  warnings.warn(\n",
            "<ipython-input-26-c16e420258f7>:5: ConvergenceWarning: Number of distinct clusters (26) found smaller than n_clusters (43). Possibly due to duplicate points in X.\n",
            "  Kmeans.fit(xContraCordoba)\n",
            "/usr/local/lib/python3.10/dist-packages/sklearn/cluster/_kmeans.py:870: FutureWarning: The default value of `n_init` will change from 10 to 'auto' in 1.4. Set the value of `n_init` explicitly to suppress the warning\n",
            "  warnings.warn(\n",
            "<ipython-input-26-c16e420258f7>:5: ConvergenceWarning: Number of distinct clusters (26) found smaller than n_clusters (44). Possibly due to duplicate points in X.\n",
            "  Kmeans.fit(xContraCordoba)\n",
            "/usr/local/lib/python3.10/dist-packages/sklearn/cluster/_kmeans.py:870: FutureWarning: The default value of `n_init` will change from 10 to 'auto' in 1.4. Set the value of `n_init` explicitly to suppress the warning\n",
            "  warnings.warn(\n",
            "<ipython-input-26-c16e420258f7>:5: ConvergenceWarning: Number of distinct clusters (26) found smaller than n_clusters (45). Possibly due to duplicate points in X.\n",
            "  Kmeans.fit(xContraCordoba)\n",
            "/usr/local/lib/python3.10/dist-packages/sklearn/cluster/_kmeans.py:870: FutureWarning: The default value of `n_init` will change from 10 to 'auto' in 1.4. Set the value of `n_init` explicitly to suppress the warning\n",
            "  warnings.warn(\n",
            "<ipython-input-26-c16e420258f7>:5: ConvergenceWarning: Number of distinct clusters (26) found smaller than n_clusters (46). Possibly due to duplicate points in X.\n",
            "  Kmeans.fit(xContraCordoba)\n",
            "/usr/local/lib/python3.10/dist-packages/sklearn/cluster/_kmeans.py:870: FutureWarning: The default value of `n_init` will change from 10 to 'auto' in 1.4. Set the value of `n_init` explicitly to suppress the warning\n",
            "  warnings.warn(\n",
            "<ipython-input-26-c16e420258f7>:5: ConvergenceWarning: Number of distinct clusters (26) found smaller than n_clusters (47). Possibly due to duplicate points in X.\n",
            "  Kmeans.fit(xContraCordoba)\n",
            "/usr/local/lib/python3.10/dist-packages/sklearn/cluster/_kmeans.py:870: FutureWarning: The default value of `n_init` will change from 10 to 'auto' in 1.4. Set the value of `n_init` explicitly to suppress the warning\n",
            "  warnings.warn(\n",
            "<ipython-input-26-c16e420258f7>:5: ConvergenceWarning: Number of distinct clusters (26) found smaller than n_clusters (48). Possibly due to duplicate points in X.\n",
            "  Kmeans.fit(xContraCordoba)\n",
            "/usr/local/lib/python3.10/dist-packages/sklearn/cluster/_kmeans.py:870: FutureWarning: The default value of `n_init` will change from 10 to 'auto' in 1.4. Set the value of `n_init` explicitly to suppress the warning\n",
            "  warnings.warn(\n",
            "<ipython-input-26-c16e420258f7>:5: ConvergenceWarning: Number of distinct clusters (26) found smaller than n_clusters (49). Possibly due to duplicate points in X.\n",
            "  Kmeans.fit(xContraCordoba)\n",
            "/usr/local/lib/python3.10/dist-packages/sklearn/cluster/_kmeans.py:870: FutureWarning: The default value of `n_init` will change from 10 to 'auto' in 1.4. Set the value of `n_init` explicitly to suppress the warning\n",
            "  warnings.warn(\n",
            "<ipython-input-26-c16e420258f7>:5: ConvergenceWarning: Number of distinct clusters (26) found smaller than n_clusters (50). Possibly due to duplicate points in X.\n",
            "  Kmeans.fit(xContraCordoba)\n"
          ]
        }
      ]
    },
    {
      "cell_type": "code",
      "source": [
        "# Gráfica de inercia vs nodos.\n",
        "plt.plot(range(1,21),inercias[:20])\n",
        "plt.xlabel('Clusters o nodos')\n",
        "plt.ylabel('Inercia')\n",
        "plt.title('Iteraciones vs Inercia o inercia vs nodos')\n",
        "plt.grid()\n",
        "plt.show()"
      ],
      "metadata": {
        "colab": {
          "base_uri": "https://localhost:8080/",
          "height": 472
        },
        "id": "d2fGhsrc0DGE",
        "outputId": "82a0be98-a0eb-4a70-eb5c-cd08842ec3e6"
      },
      "execution_count": 27,
      "outputs": [
        {
          "output_type": "display_data",
          "data": {
            "text/plain": [
              "<Figure size 640x480 with 1 Axes>"
            ],
            "image/png": "[encoded data removed]"
          },
          "metadata": {}
        }
      ]
    },
    {
      "cell_type": "code",
      "source": [
        "# Zoom a la gráfica de inercia vs nodos.\n",
        "plt.plot(range(1,7),inercias[:6])\n",
        "plt.xlabel('Clusters o nodos')\n",
        "plt.ylabel('Inercia')\n",
        "plt.title('Inercia vs nodos')\n",
        "plt.grid()\n",
        "plt.show()"
      ],
      "metadata": {
        "colab": {
          "base_uri": "https://localhost:8080/",
          "height": 472
        },
        "id": "EkGTODVG0HFk",
        "outputId": "cb1c56e8-546e-4056-facb-51713e5200c3"
      },
      "execution_count": 28,
      "outputs": [
        {
          "output_type": "display_data",
          "data": {
            "text/plain": [
              "<Figure size 640x480 with 1 Axes>"
            ],
            "image/png": "[encoded data removed]"
          },
          "metadata": {}
        }
      ]
    },
    {
      "cell_type": "markdown",
      "source": [
        " > > Al observar la anterior gráfica se establece que el punto donde los nuevos grupos dejan de disminuir significativamente su inercia es n_clusters=2, dado que  a partir de este valor la línea toma una tendencia horizontal, por lo tanto, se dice que es el codo de la gráfica, que es la cantidad ideal de grupos y además coincide con lo establecido anteriormente en la variable \"misional\" que solo posee dos respuestas si o no, en consecuencia estamos logrando una buena reducción en la inercia sin comprometer la estructura y la similitud de los grupos. Proporcionando una agrupación coherente y representativa de los datos."
      ],
      "metadata": {
        "id": "fysgkMIIGBO6"
      }
    },
    {
      "cell_type": "code",
      "source": [
        "# Implementación del modelo de agrupamiento de las k medias.\n",
        "Kmeans=KMeans(n_clusters=2, max_iter=150) #Se instala el agrupamiento con los parámetros n_clusters=2 y max_iter=150.\n",
        "objetivos=Kmeans.fit_predict(xContraCordoba) # Se procede a entrenar y predecir el modelo con los datos dispuestos para este fin."
      ],
      "metadata": {
        "colab": {
          "base_uri": "https://localhost:8080/"
        },
        "id": "Q4nG7H7V0zun",
        "outputId": "aef7bd97-cf4a-4b67-ba99-5312787decad"
      },
      "execution_count": 29,
      "outputs": [
        {
          "output_type": "stream",
          "name": "stderr",
          "text": [
            "/usr/local/lib/python3.10/dist-packages/sklearn/cluster/_kmeans.py:870: FutureWarning: The default value of `n_init` will change from 10 to 'auto' in 1.4. Set the value of `n_init` explicitly to suppress the warning\n",
            "  warnings.warn(\n"
          ]
        }
      ]
    },
    {
      "cell_type": "markdown",
      "source": [
        ">*  Calcular los puntajes de la clasificación"
      ],
      "metadata": {
        "id": "1Z5N-edl5gHP"
      }
    },
    {
      "cell_type": "code",
      "source": [
        "from sklearn.metrics import silhouette_score\n",
        "from sklearn.metrics import f1_score\n",
        "\n",
        "# Obtiene las etiquetas de los grupos\n",
        "etiquetas = Kmeans.labels_\n",
        "# Calcula el puntaje de la agrupación\n",
        "puntaje = silhouette_score(xContraCordoba, etiquetas)\n",
        "\n",
        "# Se muestra los resultados.\n",
        "print('------------------------')\n",
        "print('Resultados obtenidos')\n",
        "print(objetivos) # Se muestran los resultados de la predicción, obteniendo el listado.\n",
        "print('------------------------')\n",
        "print('Score de validación')\n",
        "print(Kmeans.score(xContraCordoba)) # Se procede a calcular el puntaje de la agrupación.\n",
        "print('------------------------')\n",
        "print('Inercia del algoritmo')\n",
        "print(Kmeans.inertia_) # Se presenta la inercia del algoritmo.\n",
        "print('------------------------')\n",
        "print('Puntaje de la agrupación')\n",
        "print(puntaje) # Se presenta el puntaje de la agrupación.\n",
        "print('------------------------')\n",
        "print('Puntaje de la precisión y el rendimiento')\n",
        "print(f1_score(objetivos, yContraCordoba)) # Se presenta la precisión y el rendimiento en función de la precisión y el recall."
      ],
      "metadata": {
        "colab": {
          "base_uri": "https://localhost:8080/"
        },
        "id": "d6Ja5eAs57-s",
        "outputId": "c3a60e6d-8a62-4e95-8a39-bc7a8a6c5aff"
      },
      "execution_count": 30,
      "outputs": [
        {
          "output_type": "stream",
          "name": "stdout",
          "text": [
            "------------------------\n",
            "Resultados obtenidos\n",
            "[1 0 1 1 1 1 1 1 1 1 0 0 0 0 0 1 1 0 0 0 0 0 1 0 0 0 1 0 0 1 1 1 1 1 1 0 0\n",
            " 1 0 0 0 0 0 1 1 1 1 1 1 1 1]\n",
            "------------------------\n",
            "Score de validación\n",
            "-1436.9642857142858\n",
            "------------------------\n",
            "Inercia del algoritmo\n",
            "1436.964285714286\n",
            "------------------------\n",
            "Puntaje de la agrupación\n",
            "0.36235693204309016\n",
            "------------------------\n",
            "Puntaje de la precisión y el rendimiento\n",
            "0.3793103448275862\n"
          ]
        }
      ]
    },
    {
      "cell_type": "code",
      "source": [
        "# Se compara la predicción hecha para los datos de prueba.\n",
        "\n",
        "print('------------------------')\n",
        "print('Agrupamiento establecido en los datos.')\n",
        "print(yContraCordoba.values)\n",
        "print('------------------------')\n",
        "print('Agrupamiento de la predicción en los datos.')\n",
        "print(objetivos)"
      ],
      "metadata": {
        "colab": {
          "base_uri": "https://localhost:8080/"
        },
        "id": "Jxpvwsub5g-J",
        "outputId": "c858c92d-06a8-4204-b3c4-0c9106851767"
      },
      "execution_count": 31,
      "outputs": [
        {
          "output_type": "stream",
          "name": "stdout",
          "text": [
            "------------------------\n",
            "Agrupamiento establecido en los datos.\n",
            "[1 1 1 1 1 1 1 1 1 1 1 1 1 1 1 0 0 0 1 1 1 1 1 1 1 0 0 0 0 0 0 0 0 0 0 1 1\n",
            " 1 1 1 1 1 1 0 0 0 0 0 0 0 0]\n",
            "------------------------\n",
            "Agrupamiento de la predicción en los datos.\n",
            "[1 0 1 1 1 1 1 1 1 1 0 0 0 0 0 1 1 0 0 0 0 0 1 0 0 0 1 0 0 1 1 1 1 1 1 0 0\n",
            " 1 0 0 0 0 0 1 1 1 1 1 1 1 1]\n"
          ]
        }
      ]
    },
    {
      "cell_type": "code",
      "source": [
        "# Frecuencia agrupamiento establecido en los datos.\n",
        "# Se utiliza la función contar establecida anteriormente.\n",
        "print('---------------------------------------------------')\n",
        "print('---------------------------------------------------')\n",
        "print('Frecuencia agrupamiento establecido en los datos')\n",
        "print('---------------------------------------------------')\n",
        "fa_Result=[]\n",
        "cont=0\n",
        "for i in range(min(yContraCordoba),max(yContraCordoba)+1):\n",
        "  fa_Result.append(contar(i,yContraCordoba))\n",
        "  print(i, 'Se repite -->',fa_Result[cont])\n",
        "  cont+=1\n",
        "\n",
        "# Frecuencia agrupamiento de la predicción en los datos.\n",
        "# Se utiliza la función contar establecida anteriormente.\n",
        "print('---------------------------------------------------')\n",
        "print('---------------------------------------------------')\n",
        "print('Frecuencia agrupamiento de la predicción en los datos')\n",
        "print('---------------------------------------------------')\n",
        "fa_objetivos=[]\n",
        "cont=0\n",
        "for i in range(min(objetivos),max(objetivos)+1):\n",
        "  fa_objetivos.append(contar(i,objetivos))\n",
        "  print(i, 'Se repite -->',fa_objetivos[cont])\n",
        "  cont+=1\n",
        "print('---------------------------------------------------')\n",
        "print('---------------------------------------------------')\n"
      ],
      "metadata": {
        "colab": {
          "base_uri": "https://localhost:8080/"
        },
        "id": "_b7zfJo11FSO",
        "outputId": "41eb937f-f621-4b1e-ca2b-f10438633806"
      },
      "execution_count": 32,
      "outputs": [
        {
          "output_type": "stream",
          "name": "stdout",
          "text": [
            "---------------------------------------------------\n",
            "---------------------------------------------------\n",
            "Frecuencia agrupamiento establecido en los datos\n",
            "---------------------------------------------------\n",
            "0 Se repite --> 21\n",
            "1 Se repite --> 30\n",
            "---------------------------------------------------\n",
            "---------------------------------------------------\n",
            "Frecuencia agrupamiento de la predicción en los datos\n",
            "---------------------------------------------------\n",
            "0 Se repite --> 23\n",
            "1 Se repite --> 28\n",
            "---------------------------------------------------\n",
            "---------------------------------------------------\n"
          ]
        }
      ]
    },
    {
      "cell_type": "markdown",
      "source": [
        ">*  Representar gráficamente los grupos\n"
      ],
      "metadata": {
        "id": "DPxjfSJML240"
      }
    },
    {
      "cell_type": "code",
      "source": [
        "# Diagrama en 3D agrupación por grupo misional.\n",
        "fig=plt.figure()\n",
        "ax=fig.add_subplot(111,projection='3d')\n",
        "ax.set_xlabel('Tipo de proceso')\n",
        "ax.set_ylabel('Área dependencia')\n",
        "ax.set_zlabel('Ubicación')\n",
        "plt.title('Agrupación por grupo de misional')\n",
        "ax.scatter(xContraCordoba.proceso[objetivos==0],xContraCordoba.area_dependencia[objetivos==0],xContraCordoba.ubicaci_n[objetivos==0],\n",
        "           s=xContraCordoba.formato[objetivos==0],color='green',label='No')\n",
        "\n",
        "ax.scatter(xContraCordoba.proceso[objetivos==1],xContraCordoba.area_dependencia[objetivos==1],xContraCordoba.ubicaci_n[objetivos==1],\n",
        "           s=xContraCordoba.formato[objetivos==1],color='red',label='Si')\n",
        "\n",
        "ax.scatter(Kmeans.cluster_centers_[:,0], Kmeans.cluster_centers_[:,3], s=35, color='black', marker='X')\n",
        "plt.legend()\n",
        "plt.show()"
      ],
      "metadata": {
        "colab": {
          "base_uri": "https://localhost:8080/",
          "height": 438
        },
        "id": "FiplceJH6a1d",
        "outputId": "6bc235dd-f631-4a6b-9661-d8ec0025bcfe"
      },
      "execution_count": 33,
      "outputs": [
        {
          "output_type": "display_data",
          "data": {
            "text/plain": [
              "<Figure size 640x480 with 1 Axes>"
            ],
            "image/png": "[encoded data removed]"
          },
          "metadata": {}
        }
      ]
    },
    {
      "cell_type": "markdown",
      "source": [
        ">* Concluir si la agrupación fue buena o no"
      ],
      "metadata": {
        "id": "azufBArYSVdQ"
      }
    },
    {
      "cell_type": "markdown",
      "source": [
        "> > Al analizar el dataset cargado, se observa que en cuanto a la cantidad de elementos pertenecientes a cada grupo de la variable \"misional\" en los datos reales y en la predicción. \"No\" tiene una cantidad de 21 en los datos reales y 28 en la predicción, mientras que el grupo \"Si\" tiene una cantidad de 30 en los datos reales y 23 en la predicción. De modo que la cantidad de datos  en cada grupo es similar entre los reales y la predicción (habiendo tan solo una diferencia de 7 mal agrupados), esto indica una buena agrupación.\n",
        "\n",
        ">> En cuanto al puntaje \"score\" de validación y la inercia son medidas utilizadas para evaluar la calidad de la agrupación, el score de validación es negativo (-1436.964), lo cual no es una medida confiable de evaluación. La inercia es igual al score de validación en valor absoluto (1436.964), esta representa la suma de las distancias cuadradas entre cada punto y el centroide de su grupo. Si la inercia es baja, indica que los puntos dentro de cada grupo están cercanos entre sí y alejados de los puntos de otros grupos. En este caso, la inercia es alta, lo cual puede sugerir una dispersión considerable entre los grupos.\n",
        "\n",
        ">> Respecto al puntaje de la agrupación \"silhouette_score\", es una medida de evaluación de la calidad de la agrupación. Donde un valor cercano a 1 indica una buena separación entre los grupos. En este caso el valor es de 0.362, lo cual sugiere que existe cierta separación entre los grupos.\n",
        "\n",
        ">> Puntaje de la precisión y el rendimiento \"f1_score\", es una medida para evaluar el rendimiento, un valor más cercano a 1 indica un mejor rendimiento. En este caso el valor es de 0.717, lo cual indica un rendimiento aceptable.\n",
        "\n",
        ">> En la gráfica 3D se puede observar claramente una diferencia y correlación entre los grupos, así como el centro de cada grupo, esto respalda la calidad de la agrupación.\n",
        "\n",
        ">> En general, considerando los resultados y medidas de evaluación mencionados, podemos concluir que la agrupación en el modelo de k medias para la variable \"misional\" ha sido aceptable, ya que con lo anterior mente mencionada no se puede establecer una agrupación confiable para el conjunto de datos de registro de información de la controlaría de córdoba."
      ],
      "metadata": {
        "id": "TJx61guTTDTc"
      }
    }
  ]
}